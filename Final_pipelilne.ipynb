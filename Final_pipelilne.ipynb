{
 "cells": [
  {
   "cell_type": "code",
   "execution_count": 1,
   "metadata": {},
   "outputs": [],
   "source": [
    "import numpy as np\n",
    "import pandas as pd \n",
    "import pickle\n",
    "from datetime import datetime\n",
    "import gc\n",
    "import warnings\n",
    "from sklearn.metrics import f1_score\n",
    "warnings.filterwarnings('ignore')"
   ]
  },
  {
   "cell_type": "code",
   "execution_count": 3,
   "metadata": {},
   "outputs": [],
   "source": [
    "def fun1(order_id,stat):\n",
    "    ''' In this fucntion it takes the input of order id and predicts which product will user puchase again\n",
    "    Enter the orders_id only which are in train or test data not the values of Prior_data order_id'''\n",
    "    if str(stat)=='train':\n",
    "        data = pickle.load(open('train_features1.pkl','rb')).drop(['user_id','reordered'],axis=1)\n",
    "        if order_id not in data.order_id.unique():\n",
    "            print('Order_id not in Train_data')\n",
    "        else:\n",
    "            data = data[data.order_id==order_id]\n",
    "            ##Loading model\n",
    "            model = pickle.load(open('lgbm_0.38596private.sav','rb'))\n",
    "            prediction = model.predict(data.drop(['order_id','product_id'],axis=1))\n",
    "            data['prediction'] = prediction\n",
    "            data = data[data.prediction==1]['product_id'].astype(str)\n",
    "            final_prediction = ' '.join(data.values)\n",
    "            gc.collect()\n",
    "            result = pd.DataFrame({'order_id':[order_id],'Prediction':[final_prediction]})\n",
    "            return result\n",
    "        \n",
    "    elif stat=='test':\n",
    "        data = pickle.load(open('test_data_2.pkl','rb')).drop(['user_id'],axis=1)\n",
    "        if order_id not in data.order_id.unique():\n",
    "            print(\"order_id not in test_data\")\n",
    "        else:\n",
    "            data = data[data.order_id==order_id]\n",
    "            ##Loading model\n",
    "            model = pickle.load(open('lgbm_0.38596private.sav','rb'))\n",
    "            prediction = model.predict(data.drop(['order_id','product_id'],axis=1))\n",
    "            data['prediction'] = prediction\n",
    "            data = data[data.prediction==1]['product_id'].astype(str)\n",
    "            final_prediction = ' '.join(data.values)\n",
    "            result = pd.DataFrame({'order_id':[order_id],'Prediction':[final_prediction]})\n",
    "            gc.collect()\n",
    "            return result"
   ]
  },
  {
   "cell_type": "markdown",
   "metadata": {},
   "source": [
    "### Example of func1"
   ]
  },
  {
   "cell_type": "code",
   "execution_count": 13,
   "metadata": {},
   "outputs": [
    {
     "name": "stdout",
     "output_type": "stream",
     "text": [
      "Enter the Order_id: 1770556\n",
      "Enter train or test:train\n",
      "The products ordered are ['33120 9076 46886 40198 42265 4957 43352 40571 33754 11512 22124 7503 15902 18926']\n",
      "The time taken to execute : 0:00:04.750194\n"
     ]
    }
   ],
   "source": [
    "order_id = int(input('Enter the Order_id: '))\n",
    "tortest = str(input('Enter train or test:'))\n",
    "start = datetime.now()\n",
    "print('The products ordered are {}'.format(fun1(order_id,tortest)['Prediction'].values))\n",
    "print('The time taken to execute : {}'.format(datetime.now()-start))"
   ]
  },
  {
   "cell_type": "code",
   "execution_count": 12,
   "metadata": {},
   "outputs": [
    {
     "name": "stdout",
     "output_type": "stream",
     "text": [
      "Enter the Order_id: 34\n",
      "Enter train or test:test\n",
      "The products ordered are ['21137 47766 13176 39475 49191 44632 43504 47792 16083 2596 39180 18618']\n",
      "The time taken to execute : 0:00:02.168000\n"
     ]
    }
   ],
   "source": [
    "order_id = int(input('Enter the Order_id: '))\n",
    "tortest = str(input('Enter train or test:'))\n",
    "start = datetime.now()\n",
    "print('The products ordered are {}'.format(fun1(order_id,tortest)['Prediction'].values))\n",
    "print('The time taken to execute : {}'.format(datetime.now()-start))"
   ]
  },
  {
   "cell_type": "code",
   "execution_count": 14,
   "metadata": {},
   "outputs": [
    {
     "data": {
      "text/plain": [
       "array(['33120 9076 46886 40198 42265 4957 43352 40571 33754 11512 22124 7503 15902 18926'],\n",
       "      dtype=object)"
      ]
     },
     "execution_count": 14,
     "metadata": {},
     "output_type": "execute_result"
    }
   ],
   "source": [
    "fun1(1770556,'train')['Prediction'].values"
   ]
  },
  {
   "cell_type": "code",
   "execution_count": 16,
   "metadata": {},
   "outputs": [],
   "source": [
    "def fun2(order_id):\n",
    "    '''In this function we will be loading only train file data points because we dont have test \n",
    "    file target varaible to compute '''\n",
    "    data = pickle.load(open('train_features1.pkl','rb'))\n",
    "    if order_id not in data.order_id:\n",
    "        print('Order_id not in Train_data')\n",
    "    else:\n",
    "        data = data[data.order_id==order_id]\n",
    "        model = pickle.load(open('lgbm_0.38596private.sav','rb'))\n",
    "        prediction = model.predict(data[model.feature_name_])\n",
    "        data['prediction'] = prediction\n",
    "        data = data[['reordered','prediction']]\n",
    "        print(\"F1_score of the order_id{} is {}.\".format(order_id,f1_score(data['reordered'],data['prediction'])))"
   ]
  },
  {
   "cell_type": "markdown",
   "metadata": {},
   "source": [
    "### Example of function2"
   ]
  },
  {
   "cell_type": "code",
   "execution_count": 21,
   "metadata": {},
   "outputs": [
    {
     "name": "stdout",
     "output_type": "stream",
     "text": [
      "Enter the Order_id: 1597\n",
      "F1_score of the order_id1597 is 0.761904761904762.\n",
      "The time taken to execute : 0:00:03.914016\n"
     ]
    }
   ],
   "source": [
    "order_id = int(input('Enter the Order_id: '))\n",
    "start = datetime.now()\n",
    "fun2(order_id)\n",
    "print('The time taken to execute : {}'.format(datetime.now()-start))"
   ]
  },
  {
   "cell_type": "code",
   "execution_count": 22,
   "metadata": {},
   "outputs": [
    {
     "name": "stdout",
     "output_type": "stream",
     "text": [
      "Enter the Order_id: 1\n",
      "F1_score of the order_id1 is 0.5714285714285715.\n",
      "The time taken to execute : 0:00:04.512302\n"
     ]
    }
   ],
   "source": [
    "order_id = int(input('Enter the Order_id: '))\n",
    "start = datetime.now()\n",
    "fun2(order_id)\n",
    "print('The time taken to execute : {}'.format(datetime.now()-start))"
   ]
  },
  {
   "cell_type": "code",
   "execution_count": 23,
   "metadata": {},
   "outputs": [
    {
     "name": "stdout",
     "output_type": "stream",
     "text": [
      "Enter the Order_id: 1955\n",
      "F1_score of the order_id1955 is 0.576271186440678.\n",
      "The time taken to execute : 0:00:03.504003\n"
     ]
    }
   ],
   "source": [
    "order_id = int(input('Enter the Order_id: '))\n",
    "start = datetime.now()\n",
    "fun2(order_id)\n",
    "print('The time taken to execute : {}'.format(datetime.now()-start))"
   ]
  },
  {
   "cell_type": "code",
   "execution_count": 24,
   "metadata": {},
   "outputs": [
    {
     "name": "stdout",
     "output_type": "stream",
     "text": [
      "Enter the Order_id: 3422\n",
      "F1_score of the order_id3422 is 0.5333333333333333.\n",
      "The time taken to execute : 0:00:03.301543\n"
     ]
    }
   ],
   "source": [
    "order_id = int(input('Enter the Order_id: '))\n",
    "start = datetime.now()\n",
    "fun2(order_id)\n",
    "print('The time taken to execute : {}'.format(datetime.now()-start))"
   ]
  }
 ],
 "metadata": {
  "kernelspec": {
   "display_name": "Python 3",
   "language": "python",
   "name": "python3"
  },
  "language_info": {
   "codemirror_mode": {
    "name": "ipython",
    "version": 3
   },
   "file_extension": ".py",
   "mimetype": "text/x-python",
   "name": "python",
   "nbconvert_exporter": "python",
   "pygments_lexer": "ipython3",
   "version": "3.8.3"
  }
 },
 "nbformat": 4,
 "nbformat_minor": 4
}
