{
 "cells": [
  {
   "cell_type": "code",
   "execution_count": null,
   "metadata": {
    "colab": {
     "base_uri": "https://localhost:8080/"
    },
    "id": "TRZj8Ugg3fUa",
    "outputId": "1f10fb0e-a9e6-40c3-80cd-b804b26219bb"
   },
   "outputs": [
    {
     "name": "stdout",
     "output_type": "stream",
     "text": [
      "Cloning into 'LightGBM'...\n",
      "remote: Enumerating objects: 109, done.\u001b[K\n",
      "remote: Counting objects: 100% (109/109), done.\u001b[K\n",
      "remote: Compressing objects: 100% (104/104), done.\u001b[K\n",
      "remote: Total 20912 (delta 69), reused 15 (delta 5), pack-reused 20803\u001b[K\n",
      "Receiving objects: 100% (20912/20912), 16.53 MiB | 7.66 MiB/s, done.\n",
      "Resolving deltas: 100% (15289/15289), done.\n",
      "Submodule 'include/boost/compute' (https://github.com/boostorg/compute) registered for path 'external_libs/compute'\n",
      "Submodule 'eigen' (https://gitlab.com/libeigen/eigen.git) registered for path 'external_libs/eigen'\n",
      "Submodule 'external_libs/fast_double_parser' (https://github.com/lemire/fast_double_parser.git) registered for path 'external_libs/fast_double_parser'\n",
      "Submodule 'external_libs/fmt' (https://github.com/fmtlib/fmt.git) registered for path 'external_libs/fmt'\n",
      "Cloning into '/content/LightGBM/external_libs/compute'...\n",
      "remote: Enumerating objects: 21728, done.        \n",
      "remote: Total 21728 (delta 0), reused 0 (delta 0), pack-reused 21728        \n",
      "Receiving objects: 100% (21728/21728), 8.51 MiB | 5.65 MiB/s, done.\n",
      "Resolving deltas: 100% (17566/17566), done.\n",
      "Cloning into '/content/LightGBM/external_libs/eigen'...\n",
      "remote: Enumerating objects: 743, done.        \n",
      "remote: Counting objects: 100% (743/743), done.        \n",
      "remote: Compressing objects: 100% (366/366), done.        \n",
      "remote: Total 108043 (delta 514), reused 573 (delta 370), pack-reused 107300        \n",
      "Receiving objects: 100% (108043/108043), 102.18 MiB | 16.13 MiB/s, done.\n",
      "Resolving deltas: 100% (88355/88355), done.\n",
      "Cloning into '/content/LightGBM/external_libs/fast_double_parser'...\n",
      "remote: Enumerating objects: 150, done.        \n",
      "remote: Counting objects: 100% (150/150), done.        \n",
      "remote: Compressing objects: 100% (93/93), done.        \n",
      "remote: Total 650 (delta 72), reused 84 (delta 33), pack-reused 500        \n",
      "Receiving objects: 100% (650/650), 793.70 KiB | 1.10 MiB/s, done.\n",
      "Resolving deltas: 100% (326/326), done.\n",
      "Cloning into '/content/LightGBM/external_libs/fmt'...\n",
      "remote: Enumerating objects: 20, done.        \n",
      "remote: Counting objects: 100% (20/20), done.        \n",
      "remote: Compressing objects: 100% (13/13), done.        \n",
      "remote: Total 24421 (delta 7), reused 10 (delta 5), pack-reused 24401        \n",
      "Receiving objects: 100% (24421/24421), 12.05 MiB | 7.52 MiB/s, done.\n",
      "Resolving deltas: 100% (16541/16541), done.\n",
      "Submodule path 'external_libs/compute': checked out '36c89134d4013b2e5e45bc55656a18bd6141995a'\n",
      "Submodule path 'external_libs/eigen': checked out '8ba1b0f41a7950dc3e1d4ed75859e36c73311235'\n",
      "Submodule path 'external_libs/fast_double_parser': checked out 'ace60646c02dc54c57f19d644e49a61e7e7758ec'\n",
      "Submodule 'benchmark/dependencies/abseil-cpp' (https://github.com/abseil/abseil-cpp.git) registered for path 'external_libs/fast_double_parser/benchmarks/dependencies/abseil-cpp'\n",
      "Submodule 'benchmark/dependencies/double-conversion' (https://github.com/google/double-conversion.git) registered for path 'external_libs/fast_double_parser/benchmarks/dependencies/double-conversion'\n",
      "Cloning into '/content/LightGBM/external_libs/fast_double_parser/benchmarks/dependencies/abseil-cpp'...\n",
      "remote: Enumerating objects: 83, done.        \n",
      "remote: Counting objects: 100% (83/83), done.        \n",
      "remote: Compressing objects: 100% (81/81), done.        \n",
      "remote: Total 13654 (delta 26), reused 54 (delta 1), pack-reused 13571        \n",
      "Receiving objects: 100% (13654/13654), 8.93 MiB | 5.15 MiB/s, done.\n",
      "Resolving deltas: 100% (10346/10346), done.\n",
      "Cloning into '/content/LightGBM/external_libs/fast_double_parser/benchmarks/dependencies/double-conversion'...\n",
      "remote: Enumerating objects: 15, done.        \n",
      "remote: Counting objects: 100% (15/15), done.        \n",
      "remote: Compressing objects: 100% (13/13), done.        \n",
      "remote: Total 1171 (delta 4), reused 6 (delta 2), pack-reused 1156        \n",
      "Receiving objects: 100% (1171/1171), 7.03 MiB | 4.82 MiB/s, done.\n",
      "Resolving deltas: 100% (776/776), done.\n",
      "Submodule path 'external_libs/fast_double_parser/benchmarks/dependencies/abseil-cpp': checked out 'd936052d32a5b7ca08b0199a6724724aea432309'\n",
      "Submodule path 'external_libs/fast_double_parser/benchmarks/dependencies/double-conversion': checked out 'f4cb2384efa55dee0e6652f8674b05763441ab09'\n",
      "Submodule path 'external_libs/fmt': checked out 'cc09f1a6798c085c325569ef466bcdcffdc266d4'\n"
     ]
    }
   ],
   "source": [
    "!git clone --recursive https://github.com/Microsoft/LightGBM"
   ]
  },
  {
   "cell_type": "code",
   "execution_count": null,
   "metadata": {
    "colab": {
     "base_uri": "https://localhost:8080/"
    },
    "id": "hWNcRDvp3k3N",
    "outputId": "79068584-51e5-485c-8276-0a35e1907460"
   },
   "outputs": [
    {
     "name": "stdout",
     "output_type": "stream",
     "text": [
      "/content/LightGBM\n"
     ]
    }
   ],
   "source": [
    "%cd /content/LightGBM"
   ]
  },
  {
   "cell_type": "code",
   "execution_count": null,
   "metadata": {
    "colab": {
     "base_uri": "https://localhost:8080/"
    },
    "id": "dsX9TzPA3vLq",
    "outputId": "a28d895d-9b68-4c79-d11a-3bfaf198148a"
   },
   "outputs": [
    {
     "name": "stdout",
     "output_type": "stream",
     "text": [
      "-- The C compiler identification is GNU 7.5.0\n",
      "-- The CXX compiler identification is GNU 7.5.0\n",
      "-- Check for working C compiler: /usr/bin/cc\n",
      "-- Check for working C compiler: /usr/bin/cc -- works\n",
      "-- Detecting C compiler ABI info\n",
      "-- Detecting C compiler ABI info - done\n",
      "-- Detecting C compile features\n",
      "-- Detecting C compile features - done\n",
      "-- Check for working CXX compiler: /usr/bin/c++\n",
      "-- Check for working CXX compiler: /usr/bin/c++ -- works\n",
      "-- Detecting CXX compiler ABI info\n",
      "-- Detecting CXX compiler ABI info - done\n",
      "-- Detecting CXX compile features\n",
      "-- Detecting CXX compile features - done\n",
      "-- Found OpenMP_C: -fopenmp (found version \"4.5\") \n",
      "-- Found OpenMP_CXX: -fopenmp (found version \"4.5\") \n",
      "-- Found OpenMP: TRUE (found version \"4.5\")  \n",
      "-- Looking for CL_VERSION_2_2\n",
      "-- Looking for CL_VERSION_2_2 - found\n",
      "-- Found OpenCL: /usr/lib/x86_64-linux-gnu/libOpenCL.so (found version \"2.2\") \n",
      "-- OpenCL include directory: /usr/include\n",
      "-- Boost version: 1.65.1\n",
      "-- Found the following Boost libraries:\n",
      "--   filesystem\n",
      "--   system\n",
      "-- Performing Test MM_PREFETCH\n",
      "-- Performing Test MM_PREFETCH - Success\n",
      "-- Using _mm_prefetch\n",
      "-- Performing Test MM_MALLOC\n",
      "-- Performing Test MM_MALLOC - Success\n",
      "-- Using _mm_malloc\n",
      "-- Configuring done\n",
      "-- Generating done\n",
      "-- Build files have been written to: /content/LightGBM\n",
      "\u001b[35m\u001b[1mScanning dependencies of target _lightgbm\u001b[0m\n",
      "\u001b[35m\u001b[1mScanning dependencies of target lightgbm\u001b[0m\n",
      "[  1%] \u001b[32mBuilding CXX object CMakeFiles/lightgbm.dir/src/main.cpp.o\u001b[0m\n",
      "[  2%] \u001b[32mBuilding CXX object CMakeFiles/_lightgbm.dir/src/boosting/boosting.cpp.o\u001b[0m\n",
      "[  4%] \u001b[32mBuilding CXX object CMakeFiles/lightgbm.dir/src/application/application.cpp.o\u001b[0m\n",
      "[  5%] \u001b[32mBuilding CXX object CMakeFiles/_lightgbm.dir/src/boosting/gbdt.cpp.o\u001b[0m\n",
      "[  7%] \u001b[32mBuilding CXX object CMakeFiles/lightgbm.dir/src/boosting/boosting.cpp.o\u001b[0m\n",
      "[  8%] \u001b[32mBuilding CXX object CMakeFiles/lightgbm.dir/src/boosting/gbdt.cpp.o\u001b[0m\n",
      "[ 10%] \u001b[32mBuilding CXX object CMakeFiles/_lightgbm.dir/src/boosting/gbdt_model_text.cpp.o\u001b[0m\n",
      "[ 11%] \u001b[32mBuilding CXX object CMakeFiles/_lightgbm.dir/src/boosting/gbdt_prediction.cpp.o\u001b[0m\n",
      "[ 13%] \u001b[32mBuilding CXX object CMakeFiles/lightgbm.dir/src/boosting/gbdt_model_text.cpp.o\u001b[0m\n",
      "[ 14%] \u001b[32mBuilding CXX object CMakeFiles/_lightgbm.dir/src/boosting/prediction_early_stop.cpp.o\u001b[0m\n",
      "[ 15%] \u001b[32mBuilding CXX object CMakeFiles/_lightgbm.dir/src/io/bin.cpp.o\u001b[0m\n",
      "[ 17%] \u001b[32mBuilding CXX object CMakeFiles/_lightgbm.dir/src/io/config.cpp.o\u001b[0m\n",
      "[ 18%] \u001b[32mBuilding CXX object CMakeFiles/lightgbm.dir/src/boosting/gbdt_prediction.cpp.o\u001b[0m\n",
      "[ 20%] \u001b[32mBuilding CXX object CMakeFiles/lightgbm.dir/src/boosting/prediction_early_stop.cpp.o\u001b[0m\n",
      "[ 21%] \u001b[32mBuilding CXX object CMakeFiles/lightgbm.dir/src/io/bin.cpp.o\u001b[0m\n",
      "[ 23%] \u001b[32mBuilding CXX object CMakeFiles/lightgbm.dir/src/io/config.cpp.o\u001b[0m\n",
      "[ 24%] \u001b[32mBuilding CXX object CMakeFiles/_lightgbm.dir/src/io/config_auto.cpp.o\u001b[0m\n",
      "[ 26%] \u001b[32mBuilding CXX object CMakeFiles/lightgbm.dir/src/io/config_auto.cpp.o\u001b[0m\n",
      "[ 27%] \u001b[32mBuilding CXX object CMakeFiles/_lightgbm.dir/src/io/dataset.cpp.o\u001b[0m\n",
      "[ 28%] \u001b[32mBuilding CXX object CMakeFiles/lightgbm.dir/src/io/dataset.cpp.o\u001b[0m\n",
      "[ 30%] \u001b[32mBuilding CXX object CMakeFiles/_lightgbm.dir/src/io/dataset_loader.cpp.o\u001b[0m\n",
      "[ 31%] \u001b[32mBuilding CXX object CMakeFiles/_lightgbm.dir/src/io/file_io.cpp.o\u001b[0m\n",
      "[ 33%] \u001b[32mBuilding CXX object CMakeFiles/_lightgbm.dir/src/io/json11.cpp.o\u001b[0m\n",
      "[ 34%] \u001b[32mBuilding CXX object CMakeFiles/lightgbm.dir/src/io/dataset_loader.cpp.o\u001b[0m\n",
      "[ 36%] \u001b[32mBuilding CXX object CMakeFiles/_lightgbm.dir/src/io/metadata.cpp.o\u001b[0m\n",
      "[ 37%] \u001b[32mBuilding CXX object CMakeFiles/lightgbm.dir/src/io/file_io.cpp.o\u001b[0m\n",
      "[ 39%] \u001b[32mBuilding CXX object CMakeFiles/lightgbm.dir/src/io/json11.cpp.o\u001b[0m\n",
      "[ 40%] \u001b[32mBuilding CXX object CMakeFiles/_lightgbm.dir/src/io/parser.cpp.o\u001b[0m\n",
      "[ 42%] \u001b[32mBuilding CXX object CMakeFiles/_lightgbm.dir/src/io/train_share_states.cpp.o\u001b[0m\n",
      "[ 43%] \u001b[32mBuilding CXX object CMakeFiles/lightgbm.dir/src/io/metadata.cpp.o\u001b[0m\n",
      "[ 44%] \u001b[32mBuilding CXX object CMakeFiles/_lightgbm.dir/src/io/tree.cpp.o\u001b[0m\n",
      "[ 46%] \u001b[32mBuilding CXX object CMakeFiles/lightgbm.dir/src/io/parser.cpp.o\u001b[0m\n",
      "[ 47%] \u001b[32mBuilding CXX object CMakeFiles/_lightgbm.dir/src/metric/dcg_calculator.cpp.o\u001b[0m\n",
      "[ 49%] \u001b[32mBuilding CXX object CMakeFiles/lightgbm.dir/src/io/train_share_states.cpp.o\u001b[0m\n",
      "[ 50%] \u001b[32mBuilding CXX object CMakeFiles/lightgbm.dir/src/io/tree.cpp.o\u001b[0m\n",
      "[ 52%] \u001b[32mBuilding CXX object CMakeFiles/_lightgbm.dir/src/metric/metric.cpp.o\u001b[0m\n",
      "[ 53%] \u001b[32mBuilding CXX object CMakeFiles/lightgbm.dir/src/metric/dcg_calculator.cpp.o\u001b[0m\n",
      "[ 55%] \u001b[32mBuilding CXX object CMakeFiles/lightgbm.dir/src/metric/metric.cpp.o\u001b[0m\n",
      "[ 56%] \u001b[32mBuilding CXX object CMakeFiles/_lightgbm.dir/src/network/ifaddrs_patch.cpp.o\u001b[0m\n",
      "[ 57%] \u001b[32mBuilding CXX object CMakeFiles/_lightgbm.dir/src/network/linker_topo.cpp.o\u001b[0m\n",
      "[ 59%] \u001b[32mBuilding CXX object CMakeFiles/_lightgbm.dir/src/network/linkers_mpi.cpp.o\u001b[0m\n",
      "[ 60%] \u001b[32mBuilding CXX object CMakeFiles/_lightgbm.dir/src/network/linkers_socket.cpp.o\u001b[0m\n",
      "[ 62%] \u001b[32mBuilding CXX object CMakeFiles/_lightgbm.dir/src/network/network.cpp.o\u001b[0m\n",
      "[ 63%] \u001b[32mBuilding CXX object CMakeFiles/lightgbm.dir/src/network/ifaddrs_patch.cpp.o\u001b[0m\n",
      "[ 65%] \u001b[32mBuilding CXX object CMakeFiles/lightgbm.dir/src/network/linker_topo.cpp.o\u001b[0m\n",
      "[ 66%] \u001b[32mBuilding CXX object CMakeFiles/_lightgbm.dir/src/objective/objective_function.cpp.o\u001b[0m\n",
      "[ 68%] \u001b[32mBuilding CXX object CMakeFiles/lightgbm.dir/src/network/linkers_mpi.cpp.o\u001b[0m\n",
      "[ 69%] \u001b[32mBuilding CXX object CMakeFiles/lightgbm.dir/src/network/linkers_socket.cpp.o\u001b[0m\n",
      "[ 71%] \u001b[32mBuilding CXX object CMakeFiles/_lightgbm.dir/src/treelearner/cuda_tree_learner.cpp.o\u001b[0m\n",
      "[ 72%] \u001b[32mBuilding CXX object CMakeFiles/_lightgbm.dir/src/treelearner/data_parallel_tree_learner.cpp.o\u001b[0m\n",
      "[ 73%] \u001b[32mBuilding CXX object CMakeFiles/lightgbm.dir/src/network/network.cpp.o\u001b[0m\n",
      "[ 75%] \u001b[32mBuilding CXX object CMakeFiles/lightgbm.dir/src/objective/objective_function.cpp.o\u001b[0m\n",
      "[ 76%] \u001b[32mBuilding CXX object CMakeFiles/lightgbm.dir/src/treelearner/cuda_tree_learner.cpp.o\u001b[0m\n",
      "[ 78%] \u001b[32mBuilding CXX object CMakeFiles/lightgbm.dir/src/treelearner/data_parallel_tree_learner.cpp.o\u001b[0m\n",
      "[ 79%] \u001b[32mBuilding CXX object CMakeFiles/_lightgbm.dir/src/treelearner/feature_parallel_tree_learner.cpp.o\u001b[0m\n",
      "[ 81%] \u001b[32mBuilding CXX object CMakeFiles/lightgbm.dir/src/treelearner/feature_parallel_tree_learner.cpp.o\u001b[0m\n",
      "[ 82%] \u001b[32mBuilding CXX object CMakeFiles/_lightgbm.dir/src/treelearner/gpu_tree_learner.cpp.o\u001b[0m\n",
      "[ 84%] \u001b[32mBuilding CXX object CMakeFiles/lightgbm.dir/src/treelearner/gpu_tree_learner.cpp.o\u001b[0m\n",
      "[ 85%] \u001b[32mBuilding CXX object CMakeFiles/_lightgbm.dir/src/treelearner/linear_tree_learner.cpp.o\u001b[0m\n",
      "[ 86%] \u001b[32mBuilding CXX object CMakeFiles/lightgbm.dir/src/treelearner/linear_tree_learner.cpp.o\u001b[0m\n",
      "[ 88%] \u001b[32mBuilding CXX object CMakeFiles/_lightgbm.dir/src/treelearner/serial_tree_learner.cpp.o\u001b[0m\n",
      "[ 89%] \u001b[32mBuilding CXX object CMakeFiles/lightgbm.dir/src/treelearner/serial_tree_learner.cpp.o\u001b[0m\n",
      "[ 91%] \u001b[32mBuilding CXX object CMakeFiles/_lightgbm.dir/src/treelearner/tree_learner.cpp.o\u001b[0m\n",
      "[ 92%] \u001b[32mBuilding CXX object CMakeFiles/lightgbm.dir/src/treelearner/tree_learner.cpp.o\u001b[0m\n",
      "[ 94%] \u001b[32mBuilding CXX object CMakeFiles/_lightgbm.dir/src/treelearner/voting_parallel_tree_learner.cpp.o\u001b[0m\n",
      "[ 95%] \u001b[32mBuilding CXX object CMakeFiles/lightgbm.dir/src/treelearner/voting_parallel_tree_learner.cpp.o\u001b[0m\n",
      "[ 97%] \u001b[32mBuilding CXX object CMakeFiles/_lightgbm.dir/src/c_api.cpp.o\u001b[0m\n",
      "[ 98%] \u001b[32m\u001b[1mLinking CXX executable lightgbm\u001b[0m\n",
      "[100%] \u001b[32m\u001b[1mLinking CXX shared library lib_lightgbm.so\u001b[0m\n",
      "[100%] Built target lightgbm\n",
      "[100%] Built target _lightgbm\n",
      "Reading package lists... Done\n",
      "Building dependency tree       \n",
      "Reading state information... Done\n",
      "The following additional packages will be installed:\n",
      "  libpython-all-dev python-all python-all-dev python-asn1crypto\n",
      "  python-cffi-backend python-crypto python-cryptography python-dbus\n",
      "  python-enum34 python-gi python-idna python-ipaddress python-keyring\n",
      "  python-keyrings.alt python-pip-whl python-pkg-resources python-secretstorage\n",
      "  python-setuptools python-six python-wheel python-xdg\n",
      "Suggested packages:\n",
      "  python-crypto-doc python-cryptography-doc python-cryptography-vectors\n",
      "  python-dbus-dbg python-dbus-doc python-enum34-doc python-gi-cairo\n",
      "  gnome-keyring libkf5wallet-bin gir1.2-gnomekeyring-1.0 python-fs\n",
      "  python-gdata python-keyczar python-secretstorage-doc python-setuptools-doc\n",
      "The following NEW packages will be installed:\n",
      "  libpython-all-dev python-all python-all-dev python-asn1crypto\n",
      "  python-cffi-backend python-crypto python-cryptography python-dbus\n",
      "  python-enum34 python-gi python-idna python-ipaddress python-keyring\n",
      "  python-keyrings.alt python-pip python-pip-whl python-pkg-resources\n",
      "  python-secretstorage python-setuptools python-six python-wheel python-xdg\n",
      "0 upgraded, 22 newly installed, 0 to remove and 13 not upgraded.\n",
      "Need to get 3,431 kB of archives.\n",
      "After this operation, 10.8 MB of additional disk space will be used.\n",
      "Get:1 http://archive.ubuntu.com/ubuntu bionic/main amd64 libpython-all-dev amd64 2.7.15~rc1-1 [1,092 B]\n",
      "Get:2 http://archive.ubuntu.com/ubuntu bionic/main amd64 python-all amd64 2.7.15~rc1-1 [1,076 B]\n",
      "Get:3 http://archive.ubuntu.com/ubuntu bionic/main amd64 python-all-dev amd64 2.7.15~rc1-1 [1,100 B]\n",
      "Get:4 http://archive.ubuntu.com/ubuntu bionic/main amd64 python-asn1crypto all 0.24.0-1 [72.7 kB]\n",
      "Get:5 http://archive.ubuntu.com/ubuntu bionic/main amd64 python-cffi-backend amd64 1.11.5-1 [63.4 kB]\n",
      "Get:6 http://archive.ubuntu.com/ubuntu bionic/main amd64 python-crypto amd64 2.6.1-8ubuntu2 [244 kB]\n",
      "Get:7 http://archive.ubuntu.com/ubuntu bionic/main amd64 python-enum34 all 1.1.6-2 [34.8 kB]\n",
      "Get:8 http://archive.ubuntu.com/ubuntu bionic/main amd64 python-idna all 2.6-1 [32.4 kB]\n",
      "Get:9 http://archive.ubuntu.com/ubuntu bionic/main amd64 python-ipaddress all 1.0.17-1 [18.2 kB]\n",
      "Get:10 http://archive.ubuntu.com/ubuntu bionic/main amd64 python-six all 1.11.0-2 [11.3 kB]\n",
      "Get:11 http://archive.ubuntu.com/ubuntu bionic-updates/main amd64 python-cryptography amd64 2.1.4-1ubuntu1.4 [276 kB]\n",
      "Get:12 http://archive.ubuntu.com/ubuntu bionic/main amd64 python-dbus amd64 1.2.6-1 [90.2 kB]\n",
      "Get:13 http://archive.ubuntu.com/ubuntu bionic-updates/main amd64 python-gi amd64 3.26.1-2ubuntu1 [197 kB]\n",
      "Get:14 http://archive.ubuntu.com/ubuntu bionic/main amd64 python-secretstorage all 2.3.1-2 [11.8 kB]\n",
      "Get:15 http://archive.ubuntu.com/ubuntu bionic/main amd64 python-keyring all 10.6.0-1 [30.6 kB]\n",
      "Get:16 http://archive.ubuntu.com/ubuntu bionic/main amd64 python-keyrings.alt all 3.0-1 [16.7 kB]\n",
      "Get:17 http://archive.ubuntu.com/ubuntu bionic-updates/universe amd64 python-pip-whl all 9.0.1-2.3~ubuntu1.18.04.4 [1,653 kB]\n",
      "Get:18 http://archive.ubuntu.com/ubuntu bionic-updates/universe amd64 python-pip all 9.0.1-2.3~ubuntu1.18.04.4 [151 kB]\n",
      "Get:19 http://archive.ubuntu.com/ubuntu bionic/main amd64 python-pkg-resources all 39.0.1-2 [128 kB]\n",
      "Get:20 http://archive.ubuntu.com/ubuntu bionic/main amd64 python-setuptools all 39.0.1-2 [329 kB]\n",
      "Get:21 http://archive.ubuntu.com/ubuntu bionic/universe amd64 python-wheel all 0.30.0-0.2 [36.4 kB]\n",
      "Get:22 http://archive.ubuntu.com/ubuntu bionic-updates/universe amd64 python-xdg all 0.25-4ubuntu1.1 [31.2 kB]\n",
      "Fetched 3,431 kB in 3s (1,294 kB/s)\n",
      "debconf: unable to initialize frontend: Dialog\n",
      "debconf: (No usable dialog-like program is installed, so the dialog based frontend cannot be used. at /usr/share/perl5/Debconf/FrontEnd/Dialog.pm line 76, <> line 22.)\n",
      "debconf: falling back to frontend: Readline\n",
      "debconf: unable to initialize frontend: Readline\n",
      "debconf: (This frontend requires a controlling tty.)\n",
      "debconf: falling back to frontend: Teletype\n",
      "dpkg-preconfigure: unable to re-open stdin: \n",
      "Selecting previously unselected package libpython-all-dev:amd64.\n",
      "(Reading database ... 146374 files and directories currently installed.)\n",
      "Preparing to unpack .../00-libpython-all-dev_2.7.15~rc1-1_amd64.deb ...\n",
      "Unpacking libpython-all-dev:amd64 (2.7.15~rc1-1) ...\n",
      "Selecting previously unselected package python-all.\n",
      "Preparing to unpack .../01-python-all_2.7.15~rc1-1_amd64.deb ...\n",
      "Unpacking python-all (2.7.15~rc1-1) ...\n",
      "Selecting previously unselected package python-all-dev.\n",
      "Preparing to unpack .../02-python-all-dev_2.7.15~rc1-1_amd64.deb ...\n",
      "Unpacking python-all-dev (2.7.15~rc1-1) ...\n",
      "Selecting previously unselected package python-asn1crypto.\n",
      "Preparing to unpack .../03-python-asn1crypto_0.24.0-1_all.deb ...\n",
      "Unpacking python-asn1crypto (0.24.0-1) ...\n",
      "Selecting previously unselected package python-cffi-backend.\n",
      "Preparing to unpack .../04-python-cffi-backend_1.11.5-1_amd64.deb ...\n",
      "Unpacking python-cffi-backend (1.11.5-1) ...\n",
      "Selecting previously unselected package python-crypto.\n",
      "Preparing to unpack .../05-python-crypto_2.6.1-8ubuntu2_amd64.deb ...\n",
      "Unpacking python-crypto (2.6.1-8ubuntu2) ...\n",
      "Selecting previously unselected package python-enum34.\n",
      "Preparing to unpack .../06-python-enum34_1.1.6-2_all.deb ...\n",
      "Unpacking python-enum34 (1.1.6-2) ...\n",
      "Selecting previously unselected package python-idna.\n",
      "Preparing to unpack .../07-python-idna_2.6-1_all.deb ...\n",
      "Unpacking python-idna (2.6-1) ...\n",
      "Selecting previously unselected package python-ipaddress.\n",
      "Preparing to unpack .../08-python-ipaddress_1.0.17-1_all.deb ...\n",
      "Unpacking python-ipaddress (1.0.17-1) ...\n",
      "Selecting previously unselected package python-six.\n",
      "Preparing to unpack .../09-python-six_1.11.0-2_all.deb ...\n",
      "Unpacking python-six (1.11.0-2) ...\n",
      "Selecting previously unselected package python-cryptography.\n",
      "Preparing to unpack .../10-python-cryptography_2.1.4-1ubuntu1.4_amd64.deb ...\n",
      "Unpacking python-cryptography (2.1.4-1ubuntu1.4) ...\n",
      "Selecting previously unselected package python-dbus.\n",
      "Preparing to unpack .../11-python-dbus_1.2.6-1_amd64.deb ...\n",
      "Unpacking python-dbus (1.2.6-1) ...\n",
      "Selecting previously unselected package python-gi.\n",
      "Preparing to unpack .../12-python-gi_3.26.1-2ubuntu1_amd64.deb ...\n",
      "Unpacking python-gi (3.26.1-2ubuntu1) ...\n",
      "Selecting previously unselected package python-secretstorage.\n",
      "Preparing to unpack .../13-python-secretstorage_2.3.1-2_all.deb ...\n",
      "Unpacking python-secretstorage (2.3.1-2) ...\n",
      "Selecting previously unselected package python-keyring.\n",
      "Preparing to unpack .../14-python-keyring_10.6.0-1_all.deb ...\n",
      "Unpacking python-keyring (10.6.0-1) ...\n",
      "Selecting previously unselected package python-keyrings.alt.\n",
      "Preparing to unpack .../15-python-keyrings.alt_3.0-1_all.deb ...\n",
      "Unpacking python-keyrings.alt (3.0-1) ...\n",
      "Selecting previously unselected package python-pip-whl.\n",
      "Preparing to unpack .../16-python-pip-whl_9.0.1-2.3~ubuntu1.18.04.4_all.deb ...\n",
      "Unpacking python-pip-whl (9.0.1-2.3~ubuntu1.18.04.4) ...\n",
      "Selecting previously unselected package python-pip.\n",
      "Preparing to unpack .../17-python-pip_9.0.1-2.3~ubuntu1.18.04.4_all.deb ...\n",
      "Unpacking python-pip (9.0.1-2.3~ubuntu1.18.04.4) ...\n",
      "Selecting previously unselected package python-pkg-resources.\n",
      "Preparing to unpack .../18-python-pkg-resources_39.0.1-2_all.deb ...\n",
      "Unpacking python-pkg-resources (39.0.1-2) ...\n",
      "Selecting previously unselected package python-setuptools.\n",
      "Preparing to unpack .../19-python-setuptools_39.0.1-2_all.deb ...\n",
      "Unpacking python-setuptools (39.0.1-2) ...\n",
      "Selecting previously unselected package python-wheel.\n",
      "Preparing to unpack .../20-python-wheel_0.30.0-0.2_all.deb ...\n",
      "Unpacking python-wheel (0.30.0-0.2) ...\n",
      "Selecting previously unselected package python-xdg.\n",
      "Preparing to unpack .../21-python-xdg_0.25-4ubuntu1.1_all.deb ...\n",
      "Unpacking python-xdg (0.25-4ubuntu1.1) ...\n",
      "Setting up python-idna (2.6-1) ...\n",
      "Setting up python-pip-whl (9.0.1-2.3~ubuntu1.18.04.4) ...\n",
      "Setting up python-asn1crypto (0.24.0-1) ...\n",
      "Setting up python-crypto (2.6.1-8ubuntu2) ...\n",
      "Setting up python-wheel (0.30.0-0.2) ...\n",
      "Setting up libpython-all-dev:amd64 (2.7.15~rc1-1) ...\n",
      "Setting up python-pkg-resources (39.0.1-2) ...\n",
      "Setting up python-cffi-backend (1.11.5-1) ...\n",
      "Setting up python-gi (3.26.1-2ubuntu1) ...\n",
      "Setting up python-six (1.11.0-2) ...\n",
      "Setting up python-enum34 (1.1.6-2) ...\n",
      "Setting up python-dbus (1.2.6-1) ...\n",
      "Setting up python-ipaddress (1.0.17-1) ...\n",
      "Setting up python-pip (9.0.1-2.3~ubuntu1.18.04.4) ...\n",
      "Setting up python-all (2.7.15~rc1-1) ...\n",
      "Setting up python-xdg (0.25-4ubuntu1.1) ...\n",
      "Setting up python-setuptools (39.0.1-2) ...\n",
      "Setting up python-keyrings.alt (3.0-1) ...\n",
      "Setting up python-all-dev (2.7.15~rc1-1) ...\n",
      "Setting up python-cryptography (2.1.4-1ubuntu1.4) ...\n",
      "Setting up python-secretstorage (2.3.1-2) ...\n",
      "Setting up python-keyring (10.6.0-1) ...\n",
      "Processing triggers for man-db (2.8.3-2ubuntu0.1) ...\n",
      "Collecting setuptools\n",
      "\u001b[?25l  Downloading https://files.pythonhosted.org/packages/f7/30/f963996d7efea5a336455a3c727711469280c318e2711e295007dea04d7e/setuptools-52.0.0-py3-none-any.whl (784kB)\n",
      "\u001b[K     |████████████████████████████████| 788kB 4.1MB/s \n",
      "\u001b[?25hRequirement already up-to-date: pandas in /usr/local/lib/python3.6/dist-packages (1.1.5)\n",
      "Requirement already up-to-date: numpy in /usr/local/lib/python3.6/dist-packages (1.19.5)\n",
      "Collecting scipy\n",
      "\u001b[?25l  Downloading https://files.pythonhosted.org/packages/c8/89/63171228d5ced148f5ced50305c89e8576ffc695a90b58fe5bb602b910c2/scipy-1.5.4-cp36-cp36m-manylinux1_x86_64.whl (25.9MB)\n",
      "\u001b[K     |████████████████████████████████| 25.9MB 124kB/s \n",
      "\u001b[?25hCollecting scikit-learn\n",
      "\u001b[?25l  Downloading https://files.pythonhosted.org/packages/e2/4c/6111b9a325f29527d7f262e2ee8c730d354b47a728d955e186dacad57a0d/scikit_learn-0.24.1-cp36-cp36m-manylinux2010_x86_64.whl (22.2MB)\n",
      "\u001b[K     |████████████████████████████████| 22.2MB 1.2MB/s \n",
      "\u001b[?25hRequirement already satisfied, skipping upgrade: pytz>=2017.2 in /usr/local/lib/python3.6/dist-packages (from pandas) (2018.9)\n",
      "Requirement already satisfied, skipping upgrade: python-dateutil>=2.7.3 in /usr/local/lib/python3.6/dist-packages (from pandas) (2.8.1)\n",
      "Collecting threadpoolctl>=2.0.0\n",
      "  Downloading https://files.pythonhosted.org/packages/f7/12/ec3f2e203afa394a149911729357aa48affc59c20e2c1c8297a60f33f133/threadpoolctl-2.1.0-py3-none-any.whl\n",
      "Requirement already satisfied, skipping upgrade: joblib>=0.11 in /usr/local/lib/python3.6/dist-packages (from scikit-learn) (1.0.0)\n",
      "Requirement already satisfied, skipping upgrade: six>=1.5 in /usr/local/lib/python3.6/dist-packages (from python-dateutil>=2.7.3->pandas) (1.15.0)\n",
      "\u001b[31mERROR: datascience 0.10.6 has requirement folium==0.2.1, but you'll have folium 0.8.3 which is incompatible.\u001b[0m\n",
      "\u001b[31mERROR: albumentations 0.1.12 has requirement imgaug<0.2.7,>=0.2.5, but you'll have imgaug 0.2.9 which is incompatible.\u001b[0m\n",
      "Installing collected packages: setuptools, scipy, threadpoolctl, scikit-learn\n",
      "  Found existing installation: setuptools 51.3.3\n",
      "    Uninstalling setuptools-51.3.3:\n",
      "      Successfully uninstalled setuptools-51.3.3\n",
      "  Found existing installation: scipy 1.4.1\n",
      "    Uninstalling scipy-1.4.1:\n",
      "      Successfully uninstalled scipy-1.4.1\n",
      "  Found existing installation: scikit-learn 0.22.2.post1\n",
      "    Uninstalling scikit-learn-0.22.2.post1:\n",
      "      Successfully uninstalled scikit-learn-0.22.2.post1\n",
      "Successfully installed scikit-learn-0.24.1 scipy-1.5.4 setuptools-52.0.0 threadpoolctl-2.1.0\n",
      "/content/LightGBM/python-package\n",
      "running install\n",
      "running build\n",
      "running build_py\n",
      "INFO:root:Generating grammar tables from /usr/lib/python3.6/lib2to3/Grammar.txt\n",
      "INFO:root:Generating grammar tables from /usr/lib/python3.6/lib2to3/PatternGrammar.txt\n",
      "creating build\n",
      "creating build/lib\n",
      "creating build/lib/lightgbm\n",
      "copying lightgbm/__init__.py -> build/lib/lightgbm\n",
      "copying lightgbm/engine.py -> build/lib/lightgbm\n",
      "copying lightgbm/callback.py -> build/lib/lightgbm\n",
      "copying lightgbm/dask.py -> build/lib/lightgbm\n",
      "copying lightgbm/compat.py -> build/lib/lightgbm\n",
      "copying lightgbm/libpath.py -> build/lib/lightgbm\n",
      "copying lightgbm/basic.py -> build/lib/lightgbm\n",
      "copying lightgbm/sklearn.py -> build/lib/lightgbm\n",
      "copying lightgbm/plotting.py -> build/lib/lightgbm\n",
      "running egg_info\n",
      "creating lightgbm.egg-info\n",
      "writing lightgbm.egg-info/PKG-INFO\n",
      "writing dependency_links to lightgbm.egg-info/dependency_links.txt\n",
      "writing requirements to lightgbm.egg-info/requires.txt\n",
      "writing top-level names to lightgbm.egg-info/top_level.txt\n",
      "writing manifest file 'lightgbm.egg-info/SOURCES.txt'\n",
      "reading manifest template 'MANIFEST.in'\n",
      "no previously-included directories found matching 'build'\n",
      "warning: no files found matching 'LICENSE'\n",
      "warning: no files found matching '*.txt'\n",
      "warning: no files found matching '*.so' under directory 'lightgbm'\n",
      "warning: no files found matching 'compile/CMakeLists.txt'\n",
      "warning: no files found matching 'compile/CMakeIntegratedOpenCL.cmake'\n",
      "warning: no files found matching '*.so' under directory 'compile'\n",
      "warning: no files found matching '*.dll' under directory 'compile/Release'\n",
      "warning: no files found matching 'compile/external_libs/compute/CMakeLists.txt'\n",
      "warning: no files found matching '*' under directory 'compile/external_libs/compute/cmake'\n",
      "warning: no files found matching '*' under directory 'compile/external_libs/compute/include'\n",
      "warning: no files found matching '*' under directory 'compile/external_libs/compute/meta'\n",
      "warning: no files found matching 'compile/external_libs/eigen/CMakeLists.txt'\n",
      "warning: no files found matching 'compile/external_libs/eigen/Eigen/Cholesky'\n",
      "warning: no files found matching 'compile/external_libs/eigen/Eigen/Core'\n",
      "warning: no files found matching 'compile/external_libs/eigen/Eigen/Dense'\n",
      "warning: no files found matching 'compile/external_libs/eigen/Eigen/Eigenvalues'\n",
      "warning: no files found matching 'compile/external_libs/eigen/Eigen/Geometry'\n",
      "warning: no files found matching 'compile/external_libs/eigen/Eigen/Householder'\n",
      "warning: no files found matching 'compile/external_libs/eigen/Eigen/Jacobi'\n",
      "warning: no files found matching 'compile/external_libs/eigen/Eigen/LU'\n",
      "warning: no files found matching 'compile/external_libs/eigen/Eigen/QR'\n",
      "warning: no files found matching 'compile/external_libs/eigen/Eigen/SVD'\n",
      "warning: no files found matching '*' under directory 'compile/external_libs/eigen/Eigen/src/Cholesky'\n",
      "warning: no files found matching '*' under directory 'compile/external_libs/eigen/Eigen/src/Core'\n",
      "warning: no files found matching '*' under directory 'compile/external_libs/eigen/Eigen/src/Eigenvalues'\n",
      "warning: no files found matching '*' under directory 'compile/external_libs/eigen/Eigen/src/Geometry'\n",
      "warning: no files found matching '*' under directory 'compile/external_libs/eigen/Eigen/src/Householder'\n",
      "warning: no files found matching '*' under directory 'compile/external_libs/eigen/Eigen/src/Jacobi'\n",
      "warning: no files found matching '*' under directory 'compile/external_libs/eigen/Eigen/src/LU'\n",
      "warning: no files found matching '*' under directory 'compile/external_libs/eigen/Eigen/src/misc'\n",
      "warning: no files found matching '*' under directory 'compile/external_libs/eigen/Eigen/src/plugins'\n",
      "warning: no files found matching '*' under directory 'compile/external_libs/eigen/Eigen/src/QR'\n",
      "warning: no files found matching '*' under directory 'compile/external_libs/eigen/Eigen/src/SVD'\n",
      "warning: no files found matching 'compile/external_libs/fast_double_parser/CMakeLists.txt'\n",
      "warning: no files found matching 'compile/external_libs/fast_double_parser/LICENSE'\n",
      "warning: no files found matching 'compile/external_libs/fast_double_parser/LICENSE.BSL'\n",
      "warning: no files found matching '*' under directory 'compile/external_libs/fast_double_parser/include'\n",
      "warning: no files found matching 'compile/external_libs/fmt/CMakeLists.txt'\n",
      "warning: no files found matching 'compile/external_libs/fmt/LICENSE.rst'\n",
      "warning: no files found matching '*' under directory 'compile/external_libs/fmt/include'\n",
      "warning: no files found matching '*' under directory 'compile/include'\n",
      "warning: no files found matching '*' under directory 'compile/src'\n",
      "warning: no files found matching 'LightGBM.sln' under directory 'compile/windows'\n",
      "warning: no files found matching 'LightGBM.vcxproj' under directory 'compile/windows'\n",
      "warning: no files found matching '*.dll' under directory 'compile/windows/x64/DLL'\n",
      "warning: no previously-included files matching '*.py[co]' found anywhere in distribution\n",
      "warning: no previously-included files found matching 'compile/external_libs/compute/.git'\n",
      "writing manifest file 'lightgbm.egg-info/SOURCES.txt'\n",
      "copying lightgbm/VERSION.txt -> build/lib/lightgbm\n",
      "running install_lib\n",
      "copying build/lib/lightgbm/__init__.py -> /usr/local/lib/python3.6/dist-packages/lightgbm\n",
      "copying build/lib/lightgbm/engine.py -> /usr/local/lib/python3.6/dist-packages/lightgbm\n",
      "copying build/lib/lightgbm/VERSION.txt -> /usr/local/lib/python3.6/dist-packages/lightgbm\n",
      "copying build/lib/lightgbm/callback.py -> /usr/local/lib/python3.6/dist-packages/lightgbm\n",
      "copying build/lib/lightgbm/dask.py -> /usr/local/lib/python3.6/dist-packages/lightgbm\n",
      "copying build/lib/lightgbm/compat.py -> /usr/local/lib/python3.6/dist-packages/lightgbm\n",
      "copying build/lib/lightgbm/libpath.py -> /usr/local/lib/python3.6/dist-packages/lightgbm\n",
      "copying build/lib/lightgbm/basic.py -> /usr/local/lib/python3.6/dist-packages/lightgbm\n",
      "copying build/lib/lightgbm/sklearn.py -> /usr/local/lib/python3.6/dist-packages/lightgbm\n",
      "copying build/lib/lightgbm/plotting.py -> /usr/local/lib/python3.6/dist-packages/lightgbm\n",
      "INFO:LightGBM:Installing lib_lightgbm from: ['../lib_lightgbm.so']\n",
      "copying ../lib_lightgbm.so -> /usr/local/lib/python3.6/dist-packages/lightgbm\n",
      "byte-compiling /usr/local/lib/python3.6/dist-packages/lightgbm/__init__.py to __init__.cpython-36.pyc\n",
      "byte-compiling /usr/local/lib/python3.6/dist-packages/lightgbm/engine.py to engine.cpython-36.pyc\n",
      "byte-compiling /usr/local/lib/python3.6/dist-packages/lightgbm/callback.py to callback.cpython-36.pyc\n",
      "byte-compiling /usr/local/lib/python3.6/dist-packages/lightgbm/dask.py to dask.cpython-36.pyc\n",
      "byte-compiling /usr/local/lib/python3.6/dist-packages/lightgbm/compat.py to compat.cpython-36.pyc\n",
      "byte-compiling /usr/local/lib/python3.6/dist-packages/lightgbm/libpath.py to libpath.cpython-36.pyc\n",
      "byte-compiling /usr/local/lib/python3.6/dist-packages/lightgbm/basic.py to basic.cpython-36.pyc\n",
      "byte-compiling /usr/local/lib/python3.6/dist-packages/lightgbm/sklearn.py to sklearn.cpython-36.pyc\n",
      "byte-compiling /usr/local/lib/python3.6/dist-packages/lightgbm/plotting.py to plotting.cpython-36.pyc\n",
      "running install_egg_info\n",
      "Copying lightgbm.egg-info to /usr/local/lib/python3.6/dist-packages/lightgbm-3.1.1.99-py3.6.egg-info\n",
      "running install_scripts\n"
     ]
    }
   ],
   "source": [
    "!mkdir build\n",
    "!cmake -DUSE_GPU=1 #avoid ..\n",
    "!make -j$(nproc)\n",
    "!sudo apt-get -y install python-pip\n",
    "!sudo -H pip install setuptools pandas numpy scipy scikit-learn -U\n",
    "%cd /content/LightGBM/python-package\n",
    "!sudo python setup.py install --precompile"
   ]
  },
  {
   "cell_type": "code",
   "execution_count": null,
   "metadata": {
    "id": "JgFDNeu_43Kk"
   },
   "outputs": [],
   "source": [
    "import pandas as pd\n",
    "import numpy as np\n",
    "import matplotlib.pyplot as plt\n",
    "import pickle\n",
    "import random\n",
    "from sklearn.linear_model import LogisticRegression\n",
    "from lightgbm import LGBMClassifier\n",
    "from sklearn.ensemble import RandomForestClassifier\n",
    "from sklearn.model_selection import GridSearchCV,RandomizedSearchCV\n",
    "from sklearn.linear_model import SGDClassifier\n",
    "import warnings\n",
    "from sklearn.metrics import f1_score\n",
    "from sklearn.metrics import log_loss, make_scorer\n",
    "from tqdm import tqdm\n",
    "import lightgbm as lgb\n",
    "import gc\n",
    "import datetime\n",
    "import time\n",
    "warnings.filterwarnings('ignore')"
   ]
  },
  {
   "cell_type": "code",
   "execution_count": null,
   "metadata": {
    "colab": {
     "base_uri": "https://localhost:8080/"
    },
    "id": "GZkt3dsd8WRJ",
    "outputId": "dd656166-c112-4734-d738-ea21703366ea"
   },
   "outputs": [
    {
     "name": "stdout",
     "output_type": "stream",
     "text": [
      "Mounted at /content/drive\n"
     ]
    }
   ],
   "source": [
    "from google.colab import drive\n",
    "drive.mount('/content/drive')"
   ]
  },
  {
   "cell_type": "code",
   "execution_count": null,
   "metadata": {
    "id": "blZLE9vHKgp4"
   },
   "outputs": [],
   "source": [
    "train = pickle.load(open('/content/drive/MyDrive/Casestudy1/train_features1.pkl','rb'))"
   ]
  },
  {
   "cell_type": "code",
   "execution_count": null,
   "metadata": {
    "colab": {
     "base_uri": "https://localhost:8080/",
     "height": 224
    },
    "id": "w8DhpGD-QeCO",
    "outputId": "92af4d55-e868-4476-d12d-3788e3ea6d53"
   },
   "outputs": [
    {
     "data": {
      "text/html": [
       "<div>\n",
       "<style scoped>\n",
       "    .dataframe tbody tr th:only-of-type {\n",
       "        vertical-align: middle;\n",
       "    }\n",
       "\n",
       "    .dataframe tbody tr th {\n",
       "        vertical-align: top;\n",
       "    }\n",
       "\n",
       "    .dataframe thead th {\n",
       "        text-align: right;\n",
       "    }\n",
       "</style>\n",
       "<table border=\"1\" class=\"dataframe\">\n",
       "  <thead>\n",
       "    <tr style=\"text-align: right;\">\n",
       "      <th></th>\n",
       "      <th>product_id</th>\n",
       "      <th>user_id</th>\n",
       "      <th>order_id</th>\n",
       "      <th>order_number</th>\n",
       "      <th>order_dow</th>\n",
       "      <th>order_hour_of_day</th>\n",
       "      <th>days_since_prior_order</th>\n",
       "      <th>reordered</th>\n",
       "      <th>cos_cyclic_hour</th>\n",
       "      <th>sin_cyclic_hour</th>\n",
       "      <th>cos_cyclic_day</th>\n",
       "      <th>sin_cyclic_day</th>\n",
       "      <th>daypriorratio</th>\n",
       "      <th>hod_ratio</th>\n",
       "      <th>product_hour_ratio</th>\n",
       "      <th>dow_ratio</th>\n",
       "      <th>product_day_ratio</th>\n",
       "      <th>user_product_ratio</th>\n",
       "      <th>user_day_ratio</th>\n",
       "      <th>user_hour_ratio</th>\n",
       "      <th>since_order_product</th>\n",
       "      <th>user_times_product</th>\n",
       "      <th>weight7days_sin_since_product</th>\n",
       "      <th>weight7days_cos_since_product</th>\n",
       "      <th>weight14days_sin_since_product</th>\n",
       "      <th>weight14days_cos_since_product</th>\n",
       "      <th>weight30days_sin_since_product</th>\n",
       "      <th>weight30days_cos_since_product</th>\n",
       "      <th>pca0</th>\n",
       "      <th>pca1</th>\n",
       "      <th>pca2</th>\n",
       "      <th>pca3</th>\n",
       "      <th>pca4</th>\n",
       "      <th>pca5</th>\n",
       "      <th>pca6</th>\n",
       "      <th>pca7</th>\n",
       "      <th>pca8</th>\n",
       "      <th>pca9</th>\n",
       "      <th>pca10</th>\n",
       "      <th>pca11</th>\n",
       "      <th>pca12</th>\n",
       "      <th>pca13</th>\n",
       "      <th>pca14</th>\n",
       "      <th>pca15</th>\n",
       "      <th>pca16</th>\n",
       "      <th>pca17</th>\n",
       "      <th>pca18</th>\n",
       "      <th>pca19</th>\n",
       "      <th>pca20</th>\n",
       "      <th>pca21</th>\n",
       "      <th>pca22</th>\n",
       "      <th>pca23</th>\n",
       "      <th>pca24</th>\n",
       "      <th>pca25</th>\n",
       "      <th>pca26</th>\n",
       "      <th>pca27</th>\n",
       "      <th>pca28</th>\n",
       "      <th>pca29</th>\n",
       "    </tr>\n",
       "  </thead>\n",
       "  <tbody>\n",
       "    <tr>\n",
       "      <th>0</th>\n",
       "      <td>33120</td>\n",
       "      <td>202279</td>\n",
       "      <td>1050357</td>\n",
       "      <td>9</td>\n",
       "      <td>1</td>\n",
       "      <td>14</td>\n",
       "      <td>30</td>\n",
       "      <td>1</td>\n",
       "      <td>-0.866211</td>\n",
       "      <td>-0.5</td>\n",
       "      <td>0.62349</td>\n",
       "      <td>0.781832</td>\n",
       "      <td>0.073653</td>\n",
       "      <td>0.081849</td>\n",
       "      <td>0.079526</td>\n",
       "      <td>0.178604</td>\n",
       "      <td>0.168146</td>\n",
       "      <td>0.090909</td>\n",
       "      <td>0.204545</td>\n",
       "      <td>0.272727</td>\n",
       "      <td>0.0</td>\n",
       "      <td>4.0</td>\n",
       "      <td>0.992464</td>\n",
       "      <td>0.393740</td>\n",
       "      <td>0.895916</td>\n",
       "      <td>0.816745</td>\n",
       "      <td>0.505000</td>\n",
       "      <td>1.005000</td>\n",
       "      <td>1.937152</td>\n",
       "      <td>-1.16688</td>\n",
       "      <td>0.238513</td>\n",
       "      <td>0.567141</td>\n",
       "      <td>0.109641</td>\n",
       "      <td>0.113536</td>\n",
       "      <td>-0.597428</td>\n",
       "      <td>-0.922533</td>\n",
       "      <td>-1.518292</td>\n",
       "      <td>-1.409214</td>\n",
       "      <td>-2.162558</td>\n",
       "      <td>-0.241033</td>\n",
       "      <td>-0.704218</td>\n",
       "      <td>1.03215</td>\n",
       "      <td>-1.88205</td>\n",
       "      <td>-0.776568</td>\n",
       "      <td>0.023648</td>\n",
       "      <td>-0.771358</td>\n",
       "      <td>-0.268655</td>\n",
       "      <td>0.220245</td>\n",
       "      <td>0.734494</td>\n",
       "      <td>-0.013646</td>\n",
       "      <td>-0.271632</td>\n",
       "      <td>-0.923037</td>\n",
       "      <td>-0.299156</td>\n",
       "      <td>-0.653588</td>\n",
       "      <td>0.476191</td>\n",
       "      <td>-0.811485</td>\n",
       "      <td>0.226917</td>\n",
       "      <td>-0.99085</td>\n",
       "    </tr>\n",
       "    <tr>\n",
       "      <th>1</th>\n",
       "      <td>33120</td>\n",
       "      <td>122042</td>\n",
       "      <td>1770556</td>\n",
       "      <td>11</td>\n",
       "      <td>1</td>\n",
       "      <td>14</td>\n",
       "      <td>30</td>\n",
       "      <td>0</td>\n",
       "      <td>-0.866211</td>\n",
       "      <td>-0.5</td>\n",
       "      <td>0.62349</td>\n",
       "      <td>0.781832</td>\n",
       "      <td>0.073653</td>\n",
       "      <td>0.081849</td>\n",
       "      <td>0.079526</td>\n",
       "      <td>0.178604</td>\n",
       "      <td>0.168146</td>\n",
       "      <td>0.059406</td>\n",
       "      <td>0.099010</td>\n",
       "      <td>0.000000</td>\n",
       "      <td>30.0</td>\n",
       "      <td>6.0</td>\n",
       "      <td>0.992464</td>\n",
       "      <td>0.393740</td>\n",
       "      <td>0.895916</td>\n",
       "      <td>0.816745</td>\n",
       "      <td>0.505000</td>\n",
       "      <td>1.005000</td>\n",
       "      <td>1.937152</td>\n",
       "      <td>-1.16688</td>\n",
       "      <td>0.238513</td>\n",
       "      <td>0.567141</td>\n",
       "      <td>0.109641</td>\n",
       "      <td>0.113536</td>\n",
       "      <td>-0.597428</td>\n",
       "      <td>-0.922533</td>\n",
       "      <td>-1.518292</td>\n",
       "      <td>-1.409214</td>\n",
       "      <td>-2.162558</td>\n",
       "      <td>-0.241033</td>\n",
       "      <td>-0.704218</td>\n",
       "      <td>1.03215</td>\n",
       "      <td>-1.88205</td>\n",
       "      <td>-0.776568</td>\n",
       "      <td>0.023648</td>\n",
       "      <td>-0.771358</td>\n",
       "      <td>-0.268655</td>\n",
       "      <td>0.220245</td>\n",
       "      <td>0.734494</td>\n",
       "      <td>-0.013646</td>\n",
       "      <td>-0.271632</td>\n",
       "      <td>-0.923037</td>\n",
       "      <td>-0.299156</td>\n",
       "      <td>-0.653588</td>\n",
       "      <td>0.476191</td>\n",
       "      <td>-0.811485</td>\n",
       "      <td>0.226917</td>\n",
       "      <td>-0.99085</td>\n",
       "    </tr>\n",
       "    <tr>\n",
       "      <th>2</th>\n",
       "      <td>33120</td>\n",
       "      <td>197605</td>\n",
       "      <td>2093514</td>\n",
       "      <td>26</td>\n",
       "      <td>1</td>\n",
       "      <td>14</td>\n",
       "      <td>30</td>\n",
       "      <td>1</td>\n",
       "      <td>-0.866211</td>\n",
       "      <td>-0.5</td>\n",
       "      <td>0.62349</td>\n",
       "      <td>0.781832</td>\n",
       "      <td>0.073653</td>\n",
       "      <td>0.081849</td>\n",
       "      <td>0.079526</td>\n",
       "      <td>0.178604</td>\n",
       "      <td>0.168146</td>\n",
       "      <td>0.070423</td>\n",
       "      <td>0.302817</td>\n",
       "      <td>0.021127</td>\n",
       "      <td>0.0</td>\n",
       "      <td>10.0</td>\n",
       "      <td>0.992464</td>\n",
       "      <td>0.393740</td>\n",
       "      <td>0.895916</td>\n",
       "      <td>0.816745</td>\n",
       "      <td>0.505000</td>\n",
       "      <td>1.005000</td>\n",
       "      <td>1.937152</td>\n",
       "      <td>-1.16688</td>\n",
       "      <td>0.238513</td>\n",
       "      <td>0.567141</td>\n",
       "      <td>0.109641</td>\n",
       "      <td>0.113536</td>\n",
       "      <td>-0.597428</td>\n",
       "      <td>-0.922533</td>\n",
       "      <td>-1.518292</td>\n",
       "      <td>-1.409214</td>\n",
       "      <td>-2.162558</td>\n",
       "      <td>-0.241033</td>\n",
       "      <td>-0.704218</td>\n",
       "      <td>1.03215</td>\n",
       "      <td>-1.88205</td>\n",
       "      <td>-0.776568</td>\n",
       "      <td>0.023648</td>\n",
       "      <td>-0.771358</td>\n",
       "      <td>-0.268655</td>\n",
       "      <td>0.220245</td>\n",
       "      <td>0.734494</td>\n",
       "      <td>-0.013646</td>\n",
       "      <td>-0.271632</td>\n",
       "      <td>-0.923037</td>\n",
       "      <td>-0.299156</td>\n",
       "      <td>-0.653588</td>\n",
       "      <td>0.476191</td>\n",
       "      <td>-0.811485</td>\n",
       "      <td>0.226917</td>\n",
       "      <td>-0.99085</td>\n",
       "    </tr>\n",
       "    <tr>\n",
       "      <th>3</th>\n",
       "      <td>33120</td>\n",
       "      <td>48533</td>\n",
       "      <td>1350816</td>\n",
       "      <td>11</td>\n",
       "      <td>1</td>\n",
       "      <td>14</td>\n",
       "      <td>30</td>\n",
       "      <td>0</td>\n",
       "      <td>-0.866211</td>\n",
       "      <td>-0.5</td>\n",
       "      <td>0.62349</td>\n",
       "      <td>0.781832</td>\n",
       "      <td>0.073653</td>\n",
       "      <td>0.081849</td>\n",
       "      <td>0.079526</td>\n",
       "      <td>0.178604</td>\n",
       "      <td>0.168146</td>\n",
       "      <td>0.018018</td>\n",
       "      <td>0.198198</td>\n",
       "      <td>0.009009</td>\n",
       "      <td>113.0</td>\n",
       "      <td>2.0</td>\n",
       "      <td>0.895916</td>\n",
       "      <td>0.816745</td>\n",
       "      <td>0.721942</td>\n",
       "      <td>0.955484</td>\n",
       "      <td>0.007739</td>\n",
       "      <td>0.557264</td>\n",
       "      <td>1.937152</td>\n",
       "      <td>-1.16688</td>\n",
       "      <td>0.238513</td>\n",
       "      <td>0.567141</td>\n",
       "      <td>0.109641</td>\n",
       "      <td>0.113536</td>\n",
       "      <td>-0.597428</td>\n",
       "      <td>-0.922533</td>\n",
       "      <td>-1.518292</td>\n",
       "      <td>-1.409214</td>\n",
       "      <td>-2.162558</td>\n",
       "      <td>-0.241033</td>\n",
       "      <td>-0.704218</td>\n",
       "      <td>1.03215</td>\n",
       "      <td>-1.88205</td>\n",
       "      <td>-0.776568</td>\n",
       "      <td>0.023648</td>\n",
       "      <td>-0.771358</td>\n",
       "      <td>-0.268655</td>\n",
       "      <td>0.220245</td>\n",
       "      <td>0.734494</td>\n",
       "      <td>-0.013646</td>\n",
       "      <td>-0.271632</td>\n",
       "      <td>-0.923037</td>\n",
       "      <td>-0.299156</td>\n",
       "      <td>-0.653588</td>\n",
       "      <td>0.476191</td>\n",
       "      <td>-0.811485</td>\n",
       "      <td>0.226917</td>\n",
       "      <td>-0.99085</td>\n",
       "    </tr>\n",
       "    <tr>\n",
       "      <th>4</th>\n",
       "      <td>33120</td>\n",
       "      <td>7443</td>\n",
       "      <td>2049554</td>\n",
       "      <td>8</td>\n",
       "      <td>1</td>\n",
       "      <td>14</td>\n",
       "      <td>30</td>\n",
       "      <td>0</td>\n",
       "      <td>-0.866211</td>\n",
       "      <td>-0.5</td>\n",
       "      <td>0.62349</td>\n",
       "      <td>0.781832</td>\n",
       "      <td>0.073653</td>\n",
       "      <td>0.081849</td>\n",
       "      <td>0.079526</td>\n",
       "      <td>0.178604</td>\n",
       "      <td>0.168146</td>\n",
       "      <td>0.074074</td>\n",
       "      <td>0.240741</td>\n",
       "      <td>0.000000</td>\n",
       "      <td>29.0</td>\n",
       "      <td>4.0</td>\n",
       "      <td>0.895916</td>\n",
       "      <td>0.816745</td>\n",
       "      <td>0.721942</td>\n",
       "      <td>0.955484</td>\n",
       "      <td>0.401044</td>\n",
       "      <td>0.994074</td>\n",
       "      <td>1.937152</td>\n",
       "      <td>-1.16688</td>\n",
       "      <td>0.238513</td>\n",
       "      <td>0.567141</td>\n",
       "      <td>0.109641</td>\n",
       "      <td>0.113536</td>\n",
       "      <td>-0.597428</td>\n",
       "      <td>-0.922533</td>\n",
       "      <td>-1.518292</td>\n",
       "      <td>-1.409214</td>\n",
       "      <td>-2.162558</td>\n",
       "      <td>-0.241033</td>\n",
       "      <td>-0.704218</td>\n",
       "      <td>1.03215</td>\n",
       "      <td>-1.88205</td>\n",
       "      <td>-0.776568</td>\n",
       "      <td>0.023648</td>\n",
       "      <td>-0.771358</td>\n",
       "      <td>-0.268655</td>\n",
       "      <td>0.220245</td>\n",
       "      <td>0.734494</td>\n",
       "      <td>-0.013646</td>\n",
       "      <td>-0.271632</td>\n",
       "      <td>-0.923037</td>\n",
       "      <td>-0.299156</td>\n",
       "      <td>-0.653588</td>\n",
       "      <td>0.476191</td>\n",
       "      <td>-0.811485</td>\n",
       "      <td>0.226917</td>\n",
       "      <td>-0.99085</td>\n",
       "    </tr>\n",
       "  </tbody>\n",
       "</table>\n",
       "</div>"
      ],
      "text/plain": [
       "  product_id  user_id  order_id  ...     pca27     pca28    pca29\n",
       "0      33120   202279   1050357  ... -0.811485  0.226917 -0.99085\n",
       "1      33120   122042   1770556  ... -0.811485  0.226917 -0.99085\n",
       "2      33120   197605   2093514  ... -0.811485  0.226917 -0.99085\n",
       "3      33120    48533   1350816  ... -0.811485  0.226917 -0.99085\n",
       "4      33120     7443   2049554  ... -0.811485  0.226917 -0.99085\n",
       "\n",
       "[5 rows x 58 columns]"
      ]
     },
     "execution_count": 7,
     "metadata": {
      "tags": []
     },
     "output_type": "execute_result"
    }
   ],
   "source": [
    "train.head()"
   ]
  },
  {
   "cell_type": "code",
   "execution_count": null,
   "metadata": {
    "id": "lhT3AhaMQgnE"
   },
   "outputs": [],
   "source": [
    "X = train.drop(['product_id','order_id'],axis=1)"
   ]
  },
  {
   "cell_type": "code",
   "execution_count": null,
   "metadata": {
    "colab": {
     "base_uri": "https://localhost:8080/"
    },
    "id": "Jz_X9SBlQlMd",
    "outputId": "bc43ae99-bc79-430d-a829-e8793ca82375"
   },
   "outputs": [
    {
     "data": {
      "text/plain": [
       "131209"
      ]
     },
     "execution_count": 9,
     "metadata": {
      "tags": []
     },
     "output_type": "execute_result"
    }
   ],
   "source": [
    "train.user_id.nunique()"
   ]
  },
  {
   "cell_type": "code",
   "execution_count": null,
   "metadata": {
    "colab": {
     "base_uri": "https://localhost:8080/"
    },
    "id": "v7JRaLcIQntW",
    "outputId": "ae37f96f-2791-4062-b48e-ad58e608bd73"
   },
   "outputs": [
    {
     "data": {
      "text/plain": [
       "[202279, 122042, 197605, 48533, 7443]"
      ]
     },
     "execution_count": 10,
     "metadata": {
      "tags": []
     },
     "output_type": "execute_result"
    }
   ],
   "source": [
    "total_users = list(train.user_id.unique())\n",
    "total_users[:5]"
   ]
  },
  {
   "cell_type": "code",
   "execution_count": null,
   "metadata": {
    "id": "EkqyBxXBQpp-"
   },
   "outputs": [],
   "source": [
    "random.shuffle(total_users)"
   ]
  },
  {
   "cell_type": "code",
   "execution_count": null,
   "metadata": {
    "colab": {
     "base_uri": "https://localhost:8080/"
    },
    "id": "lbWw3ISwQrGT",
    "outputId": "0213ddee-d7b9-461d-efca-5972b88c58fb"
   },
   "outputs": [
    {
     "data": {
      "text/plain": [
       "[27793, 147273, 186007, 37913, 149226]"
      ]
     },
     "execution_count": 12,
     "metadata": {
      "tags": []
     },
     "output_type": "execute_result"
    }
   ],
   "source": [
    "total_users[:5]"
   ]
  },
  {
   "cell_type": "code",
   "execution_count": null,
   "metadata": {
    "id": "6CVtg-NOQz1U"
   },
   "outputs": [],
   "source": [
    "train_users = total_users[:101209]\n",
    "test_users  = total_users[101209:]"
   ]
  },
  {
   "cell_type": "code",
   "execution_count": null,
   "metadata": {
    "colab": {
     "base_uri": "https://localhost:8080/"
    },
    "id": "hnO-Gfz0Q1Ww",
    "outputId": "f06a4f6e-2830-4fe8-a507-78cb463637f6"
   },
   "outputs": [
    {
     "data": {
      "text/plain": [
       "(101209, 30000, 131209)"
      ]
     },
     "execution_count": 14,
     "metadata": {
      "tags": []
     },
     "output_type": "execute_result"
    }
   ],
   "source": [
    "len(train_users),len(test_users),len(total_users)"
   ]
  },
  {
   "cell_type": "code",
   "execution_count": null,
   "metadata": {
    "colab": {
     "base_uri": "https://localhost:8080/"
    },
    "id": "CKYmjOvVQ2lS",
    "outputId": "1dc3b84b-1bc6-438f-dc6e-d37ba333b2d5"
   },
   "outputs": [
    {
     "data": {
      "text/plain": [
       "0    5987863\n",
       "1     645109\n",
       "Name: reordered, dtype: int64"
      ]
     },
     "execution_count": 15,
     "metadata": {
      "tags": []
     },
     "output_type": "execute_result"
    }
   ],
   "source": [
    "X.set_index('user_id').loc[train_users,:]['reordered'].value_counts()"
   ]
  },
  {
   "cell_type": "code",
   "execution_count": null,
   "metadata": {
    "id": "VAC6qWiDQ31y"
   },
   "outputs": [],
   "source": [
    "X_train = X.set_index('user_id').loc[train_users,:]\n",
    "X_test  = X.set_index('user_id').loc[test_users,:]"
   ]
  },
  {
   "cell_type": "code",
   "execution_count": null,
   "metadata": {
    "id": "z9O85aXxQ8xu"
   },
   "outputs": [],
   "source": [
    "y_train = X_train.reordered\n",
    "y_test  = X_test.reordered\n",
    "X_train = X_train.drop(['reordered'],axis=1)\n",
    "X_test = X_test.drop(['reordered'],axis=1)"
   ]
  },
  {
   "cell_type": "code",
   "execution_count": null,
   "metadata": {
    "colab": {
     "base_uri": "https://localhost:8080/"
    },
    "id": "73OcorU4RABS",
    "outputId": "5dec8f04-8d65-4b14-d9ac-d5092f1d8ee5"
   },
   "outputs": [
    {
     "data": {
      "text/plain": [
       "((6632972, 54), (1972898, 54), (6632972,), (1972898,))"
      ]
     },
     "execution_count": 18,
     "metadata": {
      "tags": []
     },
     "output_type": "execute_result"
    }
   ],
   "source": [
    "X_train.shape,X_test.shape,y_train.shape,y_test.shape"
   ]
  },
  {
   "cell_type": "code",
   "execution_count": null,
   "metadata": {
    "colab": {
     "base_uri": "https://localhost:8080/"
    },
    "id": "gniGQDrVRBjD",
    "outputId": "f0e68a0b-089a-4751-c223-947038172c3a"
   },
   "outputs": [
    {
     "data": {
      "text/plain": [
       "0"
      ]
     },
     "execution_count": 19,
     "metadata": {
      "tags": []
     },
     "output_type": "execute_result"
    }
   ],
   "source": [
    "gc.collect()"
   ]
  },
  {
   "cell_type": "code",
   "execution_count": null,
   "metadata": {
    "colab": {
     "base_uri": "https://localhost:8080/"
    },
    "id": "LAKYSrRSRLDf",
    "outputId": "18be9b8e-4a0b-4816-8962-3a0fec64b24f"
   },
   "outputs": [
    {
     "name": "stdout",
     "output_type": "stream",
     "text": [
      "Fitting 3 folds for each of 10 candidates, totalling 30 fits\n",
      "[CV 1/3; 1/10] START class_weight={0: 1, 1: 50}, learning_rate=0.1, max_depth=5, n_estimators=200, num_leaves=93\n",
      "[CV 1/3; 1/10] END class_weight={0: 1, 1: 50}, learning_rate=0.1, max_depth=5, n_estimators=200, num_leaves=93; total time=  48.3s\n",
      "[CV 2/3; 1/10] START class_weight={0: 1, 1: 50}, learning_rate=0.1, max_depth=5, n_estimators=200, num_leaves=93\n",
      "[CV 2/3; 1/10] END class_weight={0: 1, 1: 50}, learning_rate=0.1, max_depth=5, n_estimators=200, num_leaves=93; total time=  48.2s\n",
      "[CV 3/3; 1/10] START class_weight={0: 1, 1: 50}, learning_rate=0.1, max_depth=5, n_estimators=200, num_leaves=93\n",
      "[CV 3/3; 1/10] END class_weight={0: 1, 1: 50}, learning_rate=0.1, max_depth=5, n_estimators=200, num_leaves=93; total time=  47.9s\n",
      "[CV 1/3; 2/10] START class_weight={0: 1, 1: 50}, learning_rate=0.05, max_depth=5, n_estimators=70, num_leaves=93\n",
      "[CV 1/3; 2/10] END class_weight={0: 1, 1: 50}, learning_rate=0.05, max_depth=5, n_estimators=70, num_leaves=93; total time=  25.9s\n",
      "[CV 2/3; 2/10] START class_weight={0: 1, 1: 50}, learning_rate=0.05, max_depth=5, n_estimators=70, num_leaves=93\n",
      "[CV 2/3; 2/10] END class_weight={0: 1, 1: 50}, learning_rate=0.05, max_depth=5, n_estimators=70, num_leaves=93; total time=  25.8s\n",
      "[CV 3/3; 2/10] START class_weight={0: 1, 1: 50}, learning_rate=0.05, max_depth=5, n_estimators=70, num_leaves=93\n",
      "[CV 3/3; 2/10] END class_weight={0: 1, 1: 50}, learning_rate=0.05, max_depth=5, n_estimators=70, num_leaves=93; total time=  25.9s\n",
      "[CV 1/3; 3/10] START class_weight={0: 1, 1: 10}, learning_rate=0.1, max_depth=10, n_estimators=300, num_leaves=62\n",
      "[CV 1/3; 3/10] END class_weight={0: 1, 1: 10}, learning_rate=0.1, max_depth=10, n_estimators=300, num_leaves=62; total time= 1.1min\n",
      "[CV 2/3; 3/10] START class_weight={0: 1, 1: 10}, learning_rate=0.1, max_depth=10, n_estimators=300, num_leaves=62\n",
      "[CV 2/3; 3/10] END class_weight={0: 1, 1: 10}, learning_rate=0.1, max_depth=10, n_estimators=300, num_leaves=62; total time= 1.1min\n",
      "[CV 3/3; 3/10] START class_weight={0: 1, 1: 10}, learning_rate=0.1, max_depth=10, n_estimators=300, num_leaves=62\n",
      "[CV 3/3; 3/10] END class_weight={0: 1, 1: 10}, learning_rate=0.1, max_depth=10, n_estimators=300, num_leaves=62; total time= 1.1min\n",
      "[CV 1/3; 4/10] START class_weight={0: 1, 1: 50}, learning_rate=0.1, max_depth=8, n_estimators=300, num_leaves=31\n",
      "[CV 1/3; 4/10] END class_weight={0: 1, 1: 50}, learning_rate=0.1, max_depth=8, n_estimators=300, num_leaves=31; total time=  59.1s\n",
      "[CV 2/3; 4/10] START class_weight={0: 1, 1: 50}, learning_rate=0.1, max_depth=8, n_estimators=300, num_leaves=31\n",
      "[CV 2/3; 4/10] END class_weight={0: 1, 1: 50}, learning_rate=0.1, max_depth=8, n_estimators=300, num_leaves=31; total time=  59.9s\n",
      "[CV 3/3; 4/10] START class_weight={0: 1, 1: 50}, learning_rate=0.1, max_depth=8, n_estimators=300, num_leaves=31\n",
      "[CV 3/3; 4/10] END class_weight={0: 1, 1: 50}, learning_rate=0.1, max_depth=8, n_estimators=300, num_leaves=31; total time=  59.8s\n",
      "[CV 1/3; 5/10] START class_weight={0: 1, 1: 10}, learning_rate=0.2, max_depth=5, n_estimators=70, num_leaves=31\n",
      "[CV 1/3; 5/10] END class_weight={0: 1, 1: 10}, learning_rate=0.2, max_depth=5, n_estimators=70, num_leaves=31; total time=  25.0s\n",
      "[CV 2/3; 5/10] START class_weight={0: 1, 1: 10}, learning_rate=0.2, max_depth=5, n_estimators=70, num_leaves=31\n",
      "[CV 2/3; 5/10] END class_weight={0: 1, 1: 10}, learning_rate=0.2, max_depth=5, n_estimators=70, num_leaves=31; total time=  25.1s\n",
      "[CV 3/3; 5/10] START class_weight={0: 1, 1: 10}, learning_rate=0.2, max_depth=5, n_estimators=70, num_leaves=31\n",
      "[CV 3/3; 5/10] END class_weight={0: 1, 1: 10}, learning_rate=0.2, max_depth=5, n_estimators=70, num_leaves=31; total time=  25.0s\n",
      "[CV 1/3; 6/10] START class_weight={0: 1, 1: 50}, learning_rate=0.15, max_depth=8, n_estimators=150, num_leaves=31\n",
      "[CV 1/3; 6/10] END class_weight={0: 1, 1: 50}, learning_rate=0.15, max_depth=8, n_estimators=150, num_leaves=31; total time=  37.6s\n",
      "[CV 2/3; 6/10] START class_weight={0: 1, 1: 50}, learning_rate=0.15, max_depth=8, n_estimators=150, num_leaves=31\n",
      "[CV 2/3; 6/10] END class_weight={0: 1, 1: 50}, learning_rate=0.15, max_depth=8, n_estimators=150, num_leaves=31; total time=  37.4s\n",
      "[CV 3/3; 6/10] START class_weight={0: 1, 1: 50}, learning_rate=0.15, max_depth=8, n_estimators=150, num_leaves=31\n",
      "[CV 3/3; 6/10] END class_weight={0: 1, 1: 50}, learning_rate=0.15, max_depth=8, n_estimators=150, num_leaves=31; total time=  37.3s\n",
      "[CV 1/3; 7/10] START class_weight={0: 1, 1: 10}, learning_rate=0.2, max_depth=10, n_estimators=100, num_leaves=93\n",
      "[CV 1/3; 7/10] END class_weight={0: 1, 1: 10}, learning_rate=0.2, max_depth=10, n_estimators=100, num_leaves=93; total time=  32.8s\n",
      "[CV 2/3; 7/10] START class_weight={0: 1, 1: 10}, learning_rate=0.2, max_depth=10, n_estimators=100, num_leaves=93\n",
      "[CV 2/3; 7/10] END class_weight={0: 1, 1: 10}, learning_rate=0.2, max_depth=10, n_estimators=100, num_leaves=93; total time=  32.6s\n",
      "[CV 3/3; 7/10] START class_weight={0: 1, 1: 10}, learning_rate=0.2, max_depth=10, n_estimators=100, num_leaves=93\n",
      "[CV 3/3; 7/10] END class_weight={0: 1, 1: 10}, learning_rate=0.2, max_depth=10, n_estimators=100, num_leaves=93; total time=  33.0s\n",
      "[CV 1/3; 8/10] START class_weight={0: 1, 1: 50}, learning_rate=0.2, max_depth=8, n_estimators=300, num_leaves=93\n",
      "[CV 1/3; 8/10] END class_weight={0: 1, 1: 50}, learning_rate=0.2, max_depth=8, n_estimators=300, num_leaves=93; total time= 1.1min\n",
      "[CV 2/3; 8/10] START class_weight={0: 1, 1: 50}, learning_rate=0.2, max_depth=8, n_estimators=300, num_leaves=93\n",
      "[CV 2/3; 8/10] END class_weight={0: 1, 1: 50}, learning_rate=0.2, max_depth=8, n_estimators=300, num_leaves=93; total time= 1.1min\n",
      "[CV 3/3; 8/10] START class_weight={0: 1, 1: 50}, learning_rate=0.2, max_depth=8, n_estimators=300, num_leaves=93\n",
      "[CV 3/3; 8/10] END class_weight={0: 1, 1: 50}, learning_rate=0.2, max_depth=8, n_estimators=300, num_leaves=93; total time= 1.1min\n",
      "[CV 1/3; 9/10] START class_weight={0: 1, 1: 10}, learning_rate=0.1, max_depth=5, n_estimators=100, num_leaves=31\n",
      "[CV 1/3; 9/10] END class_weight={0: 1, 1: 10}, learning_rate=0.1, max_depth=5, n_estimators=100, num_leaves=31; total time=  31.2s\n",
      "[CV 2/3; 9/10] START class_weight={0: 1, 1: 10}, learning_rate=0.1, max_depth=5, n_estimators=100, num_leaves=31\n",
      "[CV 2/3; 9/10] END class_weight={0: 1, 1: 10}, learning_rate=0.1, max_depth=5, n_estimators=100, num_leaves=31; total time=  30.9s\n",
      "[CV 3/3; 9/10] START class_weight={0: 1, 1: 10}, learning_rate=0.1, max_depth=5, n_estimators=100, num_leaves=31\n",
      "[CV 3/3; 9/10] END class_weight={0: 1, 1: 10}, learning_rate=0.1, max_depth=5, n_estimators=100, num_leaves=31; total time=  30.9s\n",
      "[CV 1/3; 10/10] START class_weight={0: 1, 1: 10}, learning_rate=0.2, max_depth=5, n_estimators=100, num_leaves=31\n",
      "[CV 1/3; 10/10] END class_weight={0: 1, 1: 10}, learning_rate=0.2, max_depth=5, n_estimators=100, num_leaves=31; total time=  30.3s\n",
      "[CV 2/3; 10/10] START class_weight={0: 1, 1: 10}, learning_rate=0.2, max_depth=5, n_estimators=100, num_leaves=31\n",
      "[CV 2/3; 10/10] END class_weight={0: 1, 1: 10}, learning_rate=0.2, max_depth=5, n_estimators=100, num_leaves=31; total time=  30.5s\n",
      "[CV 3/3; 10/10] START class_weight={0: 1, 1: 10}, learning_rate=0.2, max_depth=5, n_estimators=100, num_leaves=31\n",
      "[CV 3/3; 10/10] END class_weight={0: 1, 1: 10}, learning_rate=0.2, max_depth=5, n_estimators=100, num_leaves=31; total time=  30.2s\n"
     ]
    },
    {
     "data": {
      "text/plain": [
       "RandomizedSearchCV(cv=3, estimator=LGBMClassifier(device_type='gpu'),\n",
       "                   param_distributions={'class_weight': [{0: 1, 1: 5},\n",
       "                                                         {0: 1, 1: 10},\n",
       "                                                         {0: 1, 1: 50}],\n",
       "                                        'learning_rate': [0.05, 0.1, 0.15, 0.2],\n",
       "                                        'max_depth': [5, 8, 10],\n",
       "                                        'n_estimators': [70, 100, 150, 200,\n",
       "                                                         300],\n",
       "                                        'num_leaves': [31, 62, 93]},\n",
       "                   return_train_score=True, scoring='f1', verbose=10)"
      ]
     },
     "execution_count": 67,
     "metadata": {
      "tags": []
     },
     "output_type": "execute_result"
    }
   ],
   "source": [
    "#https://www.analyticsvidhya.com/blog/2020/10/improve-class-imbalance-class-weights/#:~:text=the%20model%20performance.-,What%20are%20the%20class%20weights%3F,the%20majority%20and%20minority%20classes.\n",
    "lgbm=LGBMClassifier(device_type='gpu')\n",
    "\n",
    "prams={\n",
    "    'learning_rate':[0.05,0.1,0.15,0.2],\n",
    "     'n_estimators':[50,100,150,200,300],\n",
    "     'max_depth':[3,5,8,10],\n",
    "     'num_leaves':[31,62,93],\n",
    "     'class_weight':[{0:1,1:5},{0:1,1:10},{0:1,1:50}],\n",
    "}\n",
    "lgbm_cfl1=RandomizedSearchCV(lgbm,param_distributions=prams,verbose=10,scoring='f1',return_train_score=True,cv=3)\n",
    "lgbm_cfl1.fit(X_train,y_train)"
   ]
  },
  {
   "cell_type": "code",
   "execution_count": null,
   "metadata": {
    "colab": {
     "base_uri": "https://localhost:8080/",
     "height": 889
    },
    "id": "HYeqEHpuRVqw",
    "outputId": "c8d9f656-dd95-4c93-b4a2-815d396ea051"
   },
   "outputs": [
    {
     "data": {
      "text/html": [
       "<div>\n",
       "<style scoped>\n",
       "    .dataframe tbody tr th:only-of-type {\n",
       "        vertical-align: middle;\n",
       "    }\n",
       "\n",
       "    .dataframe tbody tr th {\n",
       "        vertical-align: top;\n",
       "    }\n",
       "\n",
       "    .dataframe thead th {\n",
       "        text-align: right;\n",
       "    }\n",
       "</style>\n",
       "<table border=\"1\" class=\"dataframe\">\n",
       "  <thead>\n",
       "    <tr style=\"text-align: right;\">\n",
       "      <th></th>\n",
       "      <th>mean_fit_time</th>\n",
       "      <th>std_fit_time</th>\n",
       "      <th>mean_score_time</th>\n",
       "      <th>std_score_time</th>\n",
       "      <th>param_num_leaves</th>\n",
       "      <th>param_n_estimators</th>\n",
       "      <th>param_max_depth</th>\n",
       "      <th>param_learning_rate</th>\n",
       "      <th>param_class_weight</th>\n",
       "      <th>params</th>\n",
       "      <th>split0_test_score</th>\n",
       "      <th>split1_test_score</th>\n",
       "      <th>split2_test_score</th>\n",
       "      <th>mean_test_score</th>\n",
       "      <th>std_test_score</th>\n",
       "      <th>rank_test_score</th>\n",
       "      <th>split0_train_score</th>\n",
       "      <th>split1_train_score</th>\n",
       "      <th>split2_train_score</th>\n",
       "      <th>mean_train_score</th>\n",
       "      <th>std_train_score</th>\n",
       "    </tr>\n",
       "  </thead>\n",
       "  <tbody>\n",
       "    <tr>\n",
       "      <th>0</th>\n",
       "      <td>38.308250</td>\n",
       "      <td>0.074506</td>\n",
       "      <td>9.801586</td>\n",
       "      <td>0.095338</td>\n",
       "      <td>93</td>\n",
       "      <td>200</td>\n",
       "      <td>5</td>\n",
       "      <td>0.1</td>\n",
       "      <td>{0: 1, 1: 50}</td>\n",
       "      <td>{'num_leaves': 93, 'n_estimators': 200, 'max_d...</td>\n",
       "      <td>0.223525</td>\n",
       "      <td>0.224152</td>\n",
       "      <td>0.224841</td>\n",
       "      <td>0.224173</td>\n",
       "      <td>0.000537</td>\n",
       "      <td>9</td>\n",
       "      <td>0.224628</td>\n",
       "      <td>0.225040</td>\n",
       "      <td>0.224717</td>\n",
       "      <td>0.224795</td>\n",
       "      <td>0.000177</td>\n",
       "    </tr>\n",
       "    <tr>\n",
       "      <th>1</th>\n",
       "      <td>21.506200</td>\n",
       "      <td>0.059773</td>\n",
       "      <td>4.343197</td>\n",
       "      <td>0.008269</td>\n",
       "      <td>93</td>\n",
       "      <td>70</td>\n",
       "      <td>5</td>\n",
       "      <td>0.05</td>\n",
       "      <td>{0: 1, 1: 50}</td>\n",
       "      <td>{'num_leaves': 93, 'n_estimators': 70, 'max_de...</td>\n",
       "      <td>0.215132</td>\n",
       "      <td>0.215883</td>\n",
       "      <td>0.216158</td>\n",
       "      <td>0.215724</td>\n",
       "      <td>0.000434</td>\n",
       "      <td>10</td>\n",
       "      <td>0.215768</td>\n",
       "      <td>0.216202</td>\n",
       "      <td>0.215509</td>\n",
       "      <td>0.215826</td>\n",
       "      <td>0.000286</td>\n",
       "    </tr>\n",
       "    <tr>\n",
       "      <th>2</th>\n",
       "      <td>50.557674</td>\n",
       "      <td>0.072111</td>\n",
       "      <td>13.802671</td>\n",
       "      <td>0.212984</td>\n",
       "      <td>62</td>\n",
       "      <td>300</td>\n",
       "      <td>10</td>\n",
       "      <td>0.1</td>\n",
       "      <td>{0: 1, 1: 10}</td>\n",
       "      <td>{'num_leaves': 62, 'n_estimators': 300, 'max_d...</td>\n",
       "      <td>0.363141</td>\n",
       "      <td>0.362326</td>\n",
       "      <td>0.363483</td>\n",
       "      <td>0.362983</td>\n",
       "      <td>0.000486</td>\n",
       "      <td>1</td>\n",
       "      <td>0.368311</td>\n",
       "      <td>0.368580</td>\n",
       "      <td>0.368030</td>\n",
       "      <td>0.368307</td>\n",
       "      <td>0.000224</td>\n",
       "    </tr>\n",
       "    <tr>\n",
       "      <th>3</th>\n",
       "      <td>47.171308</td>\n",
       "      <td>0.244709</td>\n",
       "      <td>12.427966</td>\n",
       "      <td>0.119026</td>\n",
       "      <td>31</td>\n",
       "      <td>300</td>\n",
       "      <td>8</td>\n",
       "      <td>0.1</td>\n",
       "      <td>{0: 1, 1: 50}</td>\n",
       "      <td>{'num_leaves': 31, 'n_estimators': 300, 'max_d...</td>\n",
       "      <td>0.225338</td>\n",
       "      <td>0.225924</td>\n",
       "      <td>0.226374</td>\n",
       "      <td>0.225879</td>\n",
       "      <td>0.000424</td>\n",
       "      <td>7</td>\n",
       "      <td>0.226995</td>\n",
       "      <td>0.227434</td>\n",
       "      <td>0.226769</td>\n",
       "      <td>0.227066</td>\n",
       "      <td>0.000276</td>\n",
       "    </tr>\n",
       "    <tr>\n",
       "      <th>4</th>\n",
       "      <td>20.567227</td>\n",
       "      <td>0.064628</td>\n",
       "      <td>4.488995</td>\n",
       "      <td>0.023273</td>\n",
       "      <td>31</td>\n",
       "      <td>70</td>\n",
       "      <td>5</td>\n",
       "      <td>0.2</td>\n",
       "      <td>{0: 1, 1: 10}</td>\n",
       "      <td>{'num_leaves': 31, 'n_estimators': 70, 'max_de...</td>\n",
       "      <td>0.359050</td>\n",
       "      <td>0.357985</td>\n",
       "      <td>0.359273</td>\n",
       "      <td>0.358769</td>\n",
       "      <td>0.000562</td>\n",
       "      <td>4</td>\n",
       "      <td>0.360042</td>\n",
       "      <td>0.360106</td>\n",
       "      <td>0.360099</td>\n",
       "      <td>0.360082</td>\n",
       "      <td>0.000029</td>\n",
       "    </tr>\n",
       "    <tr>\n",
       "      <th>5</th>\n",
       "      <td>29.990971</td>\n",
       "      <td>0.053543</td>\n",
       "      <td>7.448748</td>\n",
       "      <td>0.169874</td>\n",
       "      <td>31</td>\n",
       "      <td>150</td>\n",
       "      <td>8</td>\n",
       "      <td>0.15</td>\n",
       "      <td>{0: 1, 1: 50}</td>\n",
       "      <td>{'num_leaves': 31, 'n_estimators': 150, 'max_d...</td>\n",
       "      <td>0.224490</td>\n",
       "      <td>0.225273</td>\n",
       "      <td>0.225979</td>\n",
       "      <td>0.225247</td>\n",
       "      <td>0.000608</td>\n",
       "      <td>8</td>\n",
       "      <td>0.225768</td>\n",
       "      <td>0.226438</td>\n",
       "      <td>0.226106</td>\n",
       "      <td>0.226104</td>\n",
       "      <td>0.000274</td>\n",
       "    </tr>\n",
       "    <tr>\n",
       "      <th>6</th>\n",
       "      <td>26.610722</td>\n",
       "      <td>0.147394</td>\n",
       "      <td>6.177734</td>\n",
       "      <td>0.044868</td>\n",
       "      <td>93</td>\n",
       "      <td>100</td>\n",
       "      <td>10</td>\n",
       "      <td>0.2</td>\n",
       "      <td>{0: 1, 1: 10}</td>\n",
       "      <td>{'num_leaves': 93, 'n_estimators': 100, 'max_d...</td>\n",
       "      <td>0.362628</td>\n",
       "      <td>0.361261</td>\n",
       "      <td>0.362901</td>\n",
       "      <td>0.362263</td>\n",
       "      <td>0.000718</td>\n",
       "      <td>2</td>\n",
       "      <td>0.368080</td>\n",
       "      <td>0.367596</td>\n",
       "      <td>0.367454</td>\n",
       "      <td>0.367710</td>\n",
       "      <td>0.000268</td>\n",
       "    </tr>\n",
       "    <tr>\n",
       "      <th>7</th>\n",
       "      <td>51.290805</td>\n",
       "      <td>0.169293</td>\n",
       "      <td>15.381318</td>\n",
       "      <td>0.017197</td>\n",
       "      <td>93</td>\n",
       "      <td>300</td>\n",
       "      <td>8</td>\n",
       "      <td>0.2</td>\n",
       "      <td>{0: 1, 1: 50}</td>\n",
       "      <td>{'num_leaves': 93, 'n_estimators': 300, 'max_d...</td>\n",
       "      <td>0.235315</td>\n",
       "      <td>0.235924</td>\n",
       "      <td>0.236487</td>\n",
       "      <td>0.235909</td>\n",
       "      <td>0.000479</td>\n",
       "      <td>6</td>\n",
       "      <td>0.242825</td>\n",
       "      <td>0.243783</td>\n",
       "      <td>0.242677</td>\n",
       "      <td>0.243095</td>\n",
       "      <td>0.000490</td>\n",
       "    </tr>\n",
       "    <tr>\n",
       "      <th>8</th>\n",
       "      <td>25.335725</td>\n",
       "      <td>0.097043</td>\n",
       "      <td>5.647493</td>\n",
       "      <td>0.053756</td>\n",
       "      <td>31</td>\n",
       "      <td>100</td>\n",
       "      <td>5</td>\n",
       "      <td>0.1</td>\n",
       "      <td>{0: 1, 1: 10}</td>\n",
       "      <td>{'num_leaves': 31, 'n_estimators': 100, 'max_d...</td>\n",
       "      <td>0.358092</td>\n",
       "      <td>0.356480</td>\n",
       "      <td>0.358946</td>\n",
       "      <td>0.357839</td>\n",
       "      <td>0.001022</td>\n",
       "      <td>5</td>\n",
       "      <td>0.358885</td>\n",
       "      <td>0.358324</td>\n",
       "      <td>0.359143</td>\n",
       "      <td>0.358784</td>\n",
       "      <td>0.000342</td>\n",
       "    </tr>\n",
       "    <tr>\n",
       "      <th>9</th>\n",
       "      <td>24.649941</td>\n",
       "      <td>0.171679</td>\n",
       "      <td>5.679319</td>\n",
       "      <td>0.071438</td>\n",
       "      <td>31</td>\n",
       "      <td>100</td>\n",
       "      <td>5</td>\n",
       "      <td>0.2</td>\n",
       "      <td>{0: 1, 1: 10}</td>\n",
       "      <td>{'num_leaves': 31, 'n_estimators': 100, 'max_d...</td>\n",
       "      <td>0.359702</td>\n",
       "      <td>0.359146</td>\n",
       "      <td>0.360605</td>\n",
       "      <td>0.359817</td>\n",
       "      <td>0.000601</td>\n",
       "      <td>3</td>\n",
       "      <td>0.361541</td>\n",
       "      <td>0.361608</td>\n",
       "      <td>0.361893</td>\n",
       "      <td>0.361681</td>\n",
       "      <td>0.000153</td>\n",
       "    </tr>\n",
       "  </tbody>\n",
       "</table>\n",
       "</div>"
      ],
      "text/plain": [
       "   mean_fit_time  std_fit_time  ...  mean_train_score  std_train_score\n",
       "0      38.308250      0.074506  ...          0.224795         0.000177\n",
       "1      21.506200      0.059773  ...          0.215826         0.000286\n",
       "2      50.557674      0.072111  ...          0.368307         0.000224\n",
       "3      47.171308      0.244709  ...          0.227066         0.000276\n",
       "4      20.567227      0.064628  ...          0.360082         0.000029\n",
       "5      29.990971      0.053543  ...          0.226104         0.000274\n",
       "6      26.610722      0.147394  ...          0.367710         0.000268\n",
       "7      51.290805      0.169293  ...          0.243095         0.000490\n",
       "8      25.335725      0.097043  ...          0.358784         0.000342\n",
       "9      24.649941      0.171679  ...          0.361681         0.000153\n",
       "\n",
       "[10 rows x 21 columns]"
      ]
     },
     "execution_count": 68,
     "metadata": {
      "tags": []
     },
     "output_type": "execute_result"
    }
   ],
   "source": [
    "pd.DataFrame(lgbm_cfl1.cv_results_)"
   ]
  },
  {
   "cell_type": "code",
   "execution_count": null,
   "metadata": {
    "colab": {
     "base_uri": "https://localhost:8080/"
    },
    "id": "mRPkuNAFZnkh",
    "outputId": "c9f3dad1-8e12-49be-8db7-ceaa63f9f702"
   },
   "outputs": [
    {
     "data": {
      "text/plain": [
       "{'class_weight': {0: 1, 1: 10},\n",
       " 'learning_rate': 0.1,\n",
       " 'max_depth': 10,\n",
       " 'n_estimators': 300,\n",
       " 'num_leaves': 62}"
      ]
     },
     "execution_count": 70,
     "metadata": {
      "tags": []
     },
     "output_type": "execute_result"
    }
   ],
   "source": [
    "#best1\n",
    "lgbm_cfl1.best_params_"
   ]
  },
  {
   "cell_type": "code",
   "execution_count": null,
   "metadata": {
    "colab": {
     "base_uri": "https://localhost:8080/"
    },
    "id": "BRJp0FVIZvwG",
    "outputId": "a2d112e5-1796-49ea-ec4e-968f68e514e1"
   },
   "outputs": [
    {
     "data": {
      "text/plain": [
       "LGBMClassifier(class_weight={0: 1, 1: 5}, device_type='gpu', max_depth=10,\n",
       "               n_estimators=1200, num_leaves=63, random_state=0)"
      ]
     },
     "execution_count": 144,
     "metadata": {
      "tags": []
     },
     "output_type": "execute_result"
    }
   ],
   "source": [
    "lgbm=LGBMClassifier(device_type='gpu',class_weight={0:1,1:5},learning_rate=0.1,max_depth=10,n_estimators=1200,num_leaves=63,random_state=0)\n",
    "lgbm.fit(X_train,y_train)"
   ]
  },
  {
   "cell_type": "code",
   "execution_count": null,
   "metadata": {
    "colab": {
     "base_uri": "https://localhost:8080/"
    },
    "id": "ErKnCbHsaOId",
    "outputId": "fc05536b-4a89-41ba-b4e6-ea35832027dc"
   },
   "outputs": [
    {
     "data": {
      "text/plain": [
       "(array([0.9130187 , 0.42731386]), 0.4273138591291579)"
      ]
     },
     "execution_count": 145,
     "metadata": {
      "tags": []
     },
     "output_type": "execute_result"
    }
   ],
   "source": [
    "f1_score(y_test,lgbm.predict(X_test),average=None),f1_score(y_test,lgbm.predict(X_test))"
   ]
  },
  {
   "cell_type": "code",
   "execution_count": null,
   "metadata": {
    "colab": {
     "base_uri": "https://localhost:8080/",
     "height": 748
    },
    "id": "YJvPDm8RJ_oE",
    "outputId": "2696ed39-77e0-4cda-ddfe-07a5984771f7"
   },
   "outputs": [
    {
     "data": {
      "image/png": "[encoded data removed]",
      "text/plain": [
       "<Figure size 720x720 with 1 Axes>"
      ]
     },
     "metadata": {
      "needs_background": "light",
      "tags": []
     },
     "output_type": "display_data"
    }
   ],
   "source": [
    "plt.figure(figsize=(10,10))\n",
    "plt.bar(X_train.columns,lgbm.feature_importances_)\n",
    "plt.xticks(rotation='vertical')\n",
    "plt.show()"
   ]
  },
  {
   "cell_type": "code",
   "execution_count": null,
   "metadata": {
    "id": "C8dg9mdkqESV"
   },
   "outputs": [],
   "source": [
    "pickle.dump(lgbm,open('/content/lgbm_0.38596private.sav','wb'))"
   ]
  },
  {
   "cell_type": "code",
   "execution_count": null,
   "metadata": {
    "colab": {
     "base_uri": "https://localhost:8080/"
    },
    "id": "kQQKVyVMad3B",
    "outputId": "0cb4bb54-65d7-4458-c431-608ba6c1a40f"
   },
   "outputs": [
    {
     "data": {
      "text/plain": [
       "Index(['order_number', 'order_dow', 'order_hour_of_day',\n",
       "       'days_since_prior_order', 'cos_cyclic_hour', 'sin_cyclic_hour',\n",
       "       'cos_cyclic_day', 'sin_cyclic_day', 'daypriorratio', 'hod_ratio',\n",
       "       'product_hour_ratio', 'dow_ratio', 'product_day_ratio',\n",
       "       'user_product_ratio', 'user_day_ratio', 'user_hour_ratio',\n",
       "       'since_order_product', 'user_times_product', 'pca0', 'pca1', 'pca2',\n",
       "       'pca3', 'pca4', 'pca5', 'pca6', 'pca7', 'pca8', 'pca9', 'pca10',\n",
       "       'pca11', 'pca12', 'pca13', 'pca14', 'pca15', 'pca16', 'pca17', 'pca18',\n",
       "       'pca19', 'pca20', 'pca21', 'pca22', 'pca23', 'pca24', 'pca25', 'pca26',\n",
       "       'pca27', 'pca28', 'pca29'],\n",
       "      dtype='object')"
      ]
     },
     "execution_count": 18,
     "metadata": {
      "tags": []
     },
     "output_type": "execute_result"
    }
   ],
   "source": [
    "X_train.columns"
   ]
  },
  {
   "cell_type": "code",
   "execution_count": null,
   "metadata": {
    "id": "bUgsAobQahXp"
   },
   "outputs": [],
   "source": [
    "Test = pickle.load(open('/content/drive/MyDrive/Casestudy1/test_data_2.pkl','rb'))"
   ]
  },
  {
   "cell_type": "code",
   "execution_count": null,
   "metadata": {
    "id": "VlAqxhD0ay-c"
   },
   "outputs": [],
   "source": [
    "test = Test[X_train.columns]"
   ]
  },
  {
   "cell_type": "code",
   "execution_count": null,
   "metadata": {
    "id": "sRtY2mzWVSiY"
   },
   "outputs": [],
   "source": [
    "loaded_model = pickle.load(open('/content/lgbm_0.38596private.sav','rb'))"
   ]
  },
  {
   "cell_type": "code",
   "execution_count": null,
   "metadata": {
    "id": "Ca-wUqFIa322"
   },
   "outputs": [],
   "source": [
    "result = loaded_model.predict(test)"
   ]
  },
  {
   "cell_type": "code",
   "execution_count": null,
   "metadata": {
    "colab": {
     "base_uri": "https://localhost:8080/"
    },
    "id": "GX1TGqiw2mNM",
    "outputId": "dc4069c7-62dc-404b-ab79-8995815fbc27"
   },
   "outputs": [
    {
     "name": "stdout",
     "output_type": "stream",
     "text": [
      "284\n"
     ]
    }
   ],
   "source": [
    "def sub(result):\n",
    "  sub = pd.DataFrame()\n",
    "  sub['order_id'] = Test.order_id\n",
    "  sub['products'] = Test.product_id\n",
    "  sub['reordered'] = result\n",
    "  temp = sub.groupby('order_id').agg({'reordered':'sum'}).reset_index()\n",
    "  temp = temp[temp.reordered==0]\n",
    "  print(len(temp))\n",
    "  if len(temp)!=0:\n",
    "    temp['reordered'] = ['None' for i in range(0,len(temp))]\n",
    "    temp.columns = ['order_id','products']\n",
    "    sub = sub[sub.reordered==1]\n",
    "    sub.drop(['reordered'],axis=1,inplace=True)\n",
    "    sub = sub.sort_values(by ='order_id')\n",
    "    sub.products = sub.products.astype('str')\n",
    "    sub = sub.groupby('order_id')['products'].apply(' '.join).reset_index()\n",
    "    pd.concat([sub,temp],ignore_index=True).to_csv('/content/submission.csv',index=False)\n",
    "  else:\n",
    "    sub = sub[sub.reordered==1]\n",
    "    sub.drop(['reordered'],axis=1,inplace=True)\n",
    "    sub = sub.sort_values(by ='order_id')\n",
    "    sub.products = sub.products.astype('str')\n",
    "    sub = sub.groupby('order_id')['products'].apply(' '.join).reset_index()\n",
    "    sub.to_csv('/content/submission.csv',index=False)\n",
    "\n",
    "sub(result)\n",
    "  \n"
   ]
  }
 ],
 "metadata": {
  "accelerator": "GPU",
  "colab": {
   "collapsed_sections": [],
   "machine_shape": "hm",
   "name": "ModellingLGBMipynb",
   "provenance": []
  },
  "kernelspec": {
   "display_name": "Python 3",
   "language": "python",
   "name": "python3"
  },
  "language_info": {
   "codemirror_mode": {
    "name": "ipython",
    "version": 3
   },
   "file_extension": ".py",
   "mimetype": "text/x-python",
   "name": "python",
   "nbconvert_exporter": "python",
   "pygments_lexer": "ipython3",
   "version": "3.8.3"
  }
 },
 "nbformat": 4,
 "nbformat_minor": 1
}
